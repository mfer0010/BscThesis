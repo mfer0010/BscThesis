{
 "cells": [
  {
   "cell_type": "code",
   "execution_count": 1,
   "metadata": {},
   "outputs": [
    {
     "name": "stdout",
     "output_type": "stream",
     "text": [
      "Once deleted, variables cannot be recovered. Proceed (y/[n])? y\n"
     ]
    }
   ],
   "source": [
    "%reset\n",
    "\n",
    "import pandas as pd\n",
    "import numpy as np\n",
    "import matplotlib.pyplot as plt\n",
    "from mpl_toolkits.mplot3d import Axes3D #For 3D Plots\n",
    "\n",
    "#Required by Jupyter for inlining images\n",
    "%matplotlib inline"
   ]
  },
  {
   "cell_type": "code",
   "execution_count": 2,
   "metadata": {},
   "outputs": [],
   "source": [
    "TL_BPM = pd.read_pickle('../Data/Beam1_TL_BPM.pkl')\n",
    "BLM = pd.read_pickle('../Data/Beam1_BLM.pkl')"
   ]
  },
  {
   "cell_type": "code",
   "execution_count": 3,
   "metadata": {},
   "outputs": [
    {
     "name": "stdout",
     "output_type": "stream",
     "text": [
      "Num of Rows:\n",
      "BPM: 1463\n",
      "BLM: 1898\n"
     ]
    }
   ],
   "source": [
    "print('Num of Rows:')\n",
    "print('BPM: ' + str(len(TL_BPM)))\n",
    "print('BLM: ' + str(len(BLM)))"
   ]
  },
  {
   "cell_type": "code",
   "execution_count": 4,
   "metadata": {},
   "outputs": [
    {
     "name": "stdout",
     "output_type": "stream",
     "text": [
      "BPM Range: 1534475788.0 - 1540020799.0\n",
      "BLM Range: 1534475807.77 - 1540020824.866\n"
     ]
    }
   ],
   "source": [
    "print('BPM Range: ' + str(min(TL_BPM['Time Stamp'])) + ' - ' + str(max(TL_BPM['Time Stamp'])))\n",
    "print('BLM Range: ' + str(min(BLM['Time Stamp'])) + ' - ' + str(max(BLM['Time Stamp'])))"
   ]
  },
  {
   "cell_type": "markdown",
   "metadata": {},
   "source": [
    "## Firstly, BPMs should be normalised since the BLM data is normalised"
   ]
  },
  {
   "cell_type": "code",
   "execution_count": 5,
   "metadata": {},
   "outputs": [],
   "source": [
    "TL_BPM['MSE'] = (TL_BPM['MSE']-min(TL_BPM['MSE']))/(max(TL_BPM['MSE'])-min(TL_BPM['MSE']))"
   ]
  },
  {
   "cell_type": "markdown",
   "metadata": {},
   "source": [
    "Find the Time Stamp in BPM that is closest to the first Time Stamp in BLM"
   ]
  },
  {
   "cell_type": "code",
   "execution_count": 6,
   "metadata": {},
   "outputs": [
    {
     "name": "stdout",
     "output_type": "stream",
     "text": [
      "1534475788.0\n"
     ]
    }
   ],
   "source": [
    "start_time = BLM['Time Stamp'][0]\n",
    "i = 0;\n",
    "while TL_BPM['Time Stamp'][i] < start_time:\n",
    "    print(TL_BPM['Time Stamp'][i])\n",
    "    i = i + 1"
   ]
  },
  {
   "cell_type": "markdown",
   "metadata": {},
   "source": [
    "## Match TimeStamps"
   ]
  },
  {
   "cell_type": "code",
   "execution_count": 7,
   "metadata": {},
   "outputs": [],
   "source": [
    "def match_datasets(df_1, col_index_1, df_2, col_index_2, lower_epsilon, upper_epsilon):\n",
    "    #col_indexes are the names of the columns to search (eg. 'Time Stamp')\n",
    "    #Epsilon is the tolerance in seconds\n",
    "    \n",
    "    lenDf = len(df_1.columns) + len(df_2.columns)\n",
    "    df = pd.DataFrame()#columns=list(range(0,lenDf)))\n",
    "    \n",
    "    matched = 0 #Number of elements matched\n",
    "    dropped_df_1 = 0 #Number of elements dropped from df_1\n",
    "    dropped_df_2 = 0 #Number of elements dropped from df_2\n",
    "    \n",
    "    #Ensure Dataframes are sorted by timestamp\n",
    "    df_1 = df_1.sort_values(by=[col_index_1]).reset_index()\n",
    "    df_2 = df_2.sort_values(by=[col_index_2]).reset_index()\n",
    "    \n",
    "    i = 0 #keeps track of index of df_1\n",
    "    j = 0 #keeps track of index of df_2\n",
    "    while i < len(df_1[col_index_1])-1 and j < len(df_2[col_index_2])-1:\n",
    "        #if abs(df_1[col_index_1][i]-df_2[col_index_2][j]) < epsilon:\n",
    "        if (df_1[col_index_1][i]-df_2[col_index_2][j]) > lower_epsilon and (df_1[col_index_1][i]-df_2[col_index_2][j]) < upper_epsilon:\n",
    "            #Case 1:\n",
    "            #Points matched\n",
    "            matched = matched + 1\n",
    "            #Add to new DataFrame:\n",
    "            row = pd.Series(df_1.iloc[i,:].append(df_2.iloc[j,:])).to_frame().T\n",
    "            df = df.append(row,ignore_index=True)\n",
    "            #Increment both i and j\n",
    "            i = i + 1\n",
    "            j = j + 1\n",
    "        #Lookahead on i\n",
    "        elif df_1[col_index_1][i] < df_2[col_index_2][j]:\n",
    "            #Case 2:\n",
    "            i = i + 1\n",
    "            dropped_df_1 = dropped_df_1 + 1 \n",
    "            while df_1[col_index_1][i] < df_2[col_index_2][j]:\n",
    "                if abs(df_1[col_index_1][i]-df_2[col_index_2][j]) < epsilon:\n",
    "                    #Points Matched\n",
    "                    matched = matched + 1\n",
    "                    i = i + 1\n",
    "                    j = j + 1\n",
    "                    break\n",
    "                else:\n",
    "                    i = i + 1\n",
    "                    dropped_df_1 = dropped_df_1 + 1\n",
    "        elif df_1[col_index_1][i] > df_2[col_index_2][j]:\n",
    "            #Case 3:\n",
    "            j = j + 1\n",
    "            dropped_df_2 = dropped_df_2 + 1 \n",
    "            while df_1[col_index_1][i] > df_2[col_index_2][j]:\n",
    "                if abs(df_1[col_index_1][i]-df_2[col_index_2][j]) < epsilon:\n",
    "                    #Points Matched\n",
    "                    matched = matched + 1\n",
    "                    i = i + 1\n",
    "                    j = j + 1\n",
    "                    break\n",
    "                else:\n",
    "                    j = j + 1\n",
    "                    dropped_df_2 = dropped_df_2 + 1\n",
    "                \n",
    "        \n",
    " \n",
    "    print('Matched: ' + str(matched))\n",
    "    print('Dropped from 1st df: ' + str(dropped_df_1))\n",
    "    print('Dropped from 2nd df: ' + str(dropped_df_2))\n",
    "    #return pd.DataFrame.from_records(rows)\n",
    "    #print(rows)  \n",
    "    \n",
    "    return df"
   ]
  },
  {
   "cell_type": "code",
   "execution_count": 11,
   "metadata": {},
   "outputs": [
    {
     "name": "stdout",
     "output_type": "stream",
     "text": [
      "Matched: 1462\n",
      "Dropped from 1st df: 433\n",
      "Dropped from 2nd df: 0\n"
     ]
    }
   ],
   "source": [
    "df = match_datasets(BLM,'Time Stamp',TL_BPM,'Time Stamp', 50)"
   ]
  },
  {
   "cell_type": "code",
   "execution_count": 44,
   "metadata": {},
   "outputs": [
    {
     "data": {
      "text/html": [
       "<div>\n",
       "<style scoped>\n",
       "    .dataframe tbody tr th:only-of-type {\n",
       "        vertical-align: middle;\n",
       "    }\n",
       "\n",
       "    .dataframe tbody tr th {\n",
       "        vertical-align: top;\n",
       "    }\n",
       "\n",
       "    .dataframe thead th {\n",
       "        text-align: right;\n",
       "    }\n",
       "</style>\n",
       "<table border=\"1\" class=\"dataframe\">\n",
       "  <thead>\n",
       "    <tr style=\"text-align: right;\">\n",
       "      <th></th>\n",
       "      <th>index</th>\n",
       "      <th>Time Stamp</th>\n",
       "      <th>Reading 1</th>\n",
       "      <th>Reading 2</th>\n",
       "      <th>Reading 3</th>\n",
       "      <th>index</th>\n",
       "      <th>Time Stamp</th>\n",
       "      <th>1</th>\n",
       "      <th>2</th>\n",
       "      <th>3</th>\n",
       "      <th>...</th>\n",
       "      <th>10</th>\n",
       "      <th>11</th>\n",
       "      <th>12</th>\n",
       "      <th>13</th>\n",
       "      <th>14</th>\n",
       "      <th>15</th>\n",
       "      <th>16</th>\n",
       "      <th>17</th>\n",
       "      <th>18</th>\n",
       "      <th>MSE</th>\n",
       "    </tr>\n",
       "  </thead>\n",
       "  <tbody>\n",
       "    <tr>\n",
       "      <th>0</th>\n",
       "      <td>0.0</td>\n",
       "      <td>1.534476e+09</td>\n",
       "      <td>0.032946</td>\n",
       "      <td>0.046330</td>\n",
       "      <td>0.037706</td>\n",
       "      <td>0.0</td>\n",
       "      <td>1.534476e+09</td>\n",
       "      <td>-0.114</td>\n",
       "      <td>-0.035</td>\n",
       "      <td>-1.063</td>\n",
       "      <td>...</td>\n",
       "      <td>-0.879</td>\n",
       "      <td>0.341</td>\n",
       "      <td>0.049</td>\n",
       "      <td>-1.138</td>\n",
       "      <td>-1.413</td>\n",
       "      <td>0.088</td>\n",
       "      <td>-1.494</td>\n",
       "      <td>-0.411</td>\n",
       "      <td>-0.820</td>\n",
       "      <td>0.000000</td>\n",
       "    </tr>\n",
       "    <tr>\n",
       "      <th>1</th>\n",
       "      <td>1.0</td>\n",
       "      <td>1.534476e+09</td>\n",
       "      <td>0.054595</td>\n",
       "      <td>0.075554</td>\n",
       "      <td>0.061253</td>\n",
       "      <td>1.0</td>\n",
       "      <td>1.534476e+09</td>\n",
       "      <td>-0.062</td>\n",
       "      <td>-0.134</td>\n",
       "      <td>-0.786</td>\n",
       "      <td>...</td>\n",
       "      <td>-0.837</td>\n",
       "      <td>0.301</td>\n",
       "      <td>0.101</td>\n",
       "      <td>-1.127</td>\n",
       "      <td>-1.339</td>\n",
       "      <td>0.204</td>\n",
       "      <td>-1.436</td>\n",
       "      <td>-0.358</td>\n",
       "      <td>-0.765</td>\n",
       "      <td>0.013231</td>\n",
       "    </tr>\n",
       "    <tr>\n",
       "      <th>2</th>\n",
       "      <td>2.0</td>\n",
       "      <td>1.534476e+09</td>\n",
       "      <td>0.031869</td>\n",
       "      <td>0.044786</td>\n",
       "      <td>0.036302</td>\n",
       "      <td>2.0</td>\n",
       "      <td>1.534476e+09</td>\n",
       "      <td>-0.146</td>\n",
       "      <td>0.082</td>\n",
       "      <td>-1.066</td>\n",
       "      <td>...</td>\n",
       "      <td>-0.774</td>\n",
       "      <td>0.346</td>\n",
       "      <td>-0.035</td>\n",
       "      <td>-1.098</td>\n",
       "      <td>-1.444</td>\n",
       "      <td>0.073</td>\n",
       "      <td>-1.414</td>\n",
       "      <td>-0.433</td>\n",
       "      <td>-0.730</td>\n",
       "      <td>0.005537</td>\n",
       "    </tr>\n",
       "    <tr>\n",
       "      <th>3</th>\n",
       "      <td>3.0</td>\n",
       "      <td>1.534476e+09</td>\n",
       "      <td>0.057333</td>\n",
       "      <td>0.069524</td>\n",
       "      <td>0.059613</td>\n",
       "      <td>3.0</td>\n",
       "      <td>1.534476e+09</td>\n",
       "      <td>-0.104</td>\n",
       "      <td>-0.037</td>\n",
       "      <td>-0.872</td>\n",
       "      <td>...</td>\n",
       "      <td>-0.762</td>\n",
       "      <td>0.311</td>\n",
       "      <td>0.023</td>\n",
       "      <td>-1.143</td>\n",
       "      <td>-1.347</td>\n",
       "      <td>0.132</td>\n",
       "      <td>-1.396</td>\n",
       "      <td>-0.379</td>\n",
       "      <td>-0.668</td>\n",
       "      <td>0.008761</td>\n",
       "    </tr>\n",
       "    <tr>\n",
       "      <th>4</th>\n",
       "      <td>4.0</td>\n",
       "      <td>1.534477e+09</td>\n",
       "      <td>0.045874</td>\n",
       "      <td>0.058032</td>\n",
       "      <td>0.048874</td>\n",
       "      <td>4.0</td>\n",
       "      <td>1.534477e+09</td>\n",
       "      <td>-0.014</td>\n",
       "      <td>-0.008</td>\n",
       "      <td>-0.859</td>\n",
       "      <td>...</td>\n",
       "      <td>-0.740</td>\n",
       "      <td>0.250</td>\n",
       "      <td>0.025</td>\n",
       "      <td>-0.971</td>\n",
       "      <td>-1.447</td>\n",
       "      <td>0.268</td>\n",
       "      <td>-1.489</td>\n",
       "      <td>-0.406</td>\n",
       "      <td>-0.696</td>\n",
       "      <td>0.011608</td>\n",
       "    </tr>\n",
       "  </tbody>\n",
       "</table>\n",
       "<p>5 rows × 26 columns</p>\n",
       "</div>"
      ],
      "text/plain": [
       "   index    Time Stamp  Reading 1  Reading 2  Reading 3  index    Time Stamp  \\\n",
       "0    0.0  1.534476e+09   0.032946   0.046330   0.037706    0.0  1.534476e+09   \n",
       "1    1.0  1.534476e+09   0.054595   0.075554   0.061253    1.0  1.534476e+09   \n",
       "2    2.0  1.534476e+09   0.031869   0.044786   0.036302    2.0  1.534476e+09   \n",
       "3    3.0  1.534476e+09   0.057333   0.069524   0.059613    3.0  1.534476e+09   \n",
       "4    4.0  1.534477e+09   0.045874   0.058032   0.048874    4.0  1.534477e+09   \n",
       "\n",
       "       1      2      3    ...        10     11     12     13     14     15  \\\n",
       "0 -0.114 -0.035 -1.063    ...    -0.879  0.341  0.049 -1.138 -1.413  0.088   \n",
       "1 -0.062 -0.134 -0.786    ...    -0.837  0.301  0.101 -1.127 -1.339  0.204   \n",
       "2 -0.146  0.082 -1.066    ...    -0.774  0.346 -0.035 -1.098 -1.444  0.073   \n",
       "3 -0.104 -0.037 -0.872    ...    -0.762  0.311  0.023 -1.143 -1.347  0.132   \n",
       "4 -0.014 -0.008 -0.859    ...    -0.740  0.250  0.025 -0.971 -1.447  0.268   \n",
       "\n",
       "      16     17     18       MSE  \n",
       "0 -1.494 -0.411 -0.820  0.000000  \n",
       "1 -1.436 -0.358 -0.765  0.013231  \n",
       "2 -1.414 -0.433 -0.730  0.005537  \n",
       "3 -1.396 -0.379 -0.668  0.008761  \n",
       "4 -1.489 -0.406 -0.696  0.011608  \n",
       "\n",
       "[5 rows x 26 columns]"
      ]
     },
     "execution_count": 44,
     "metadata": {},
     "output_type": "execute_result"
    }
   ],
   "source": [
    "df.head()"
   ]
  },
  {
   "cell_type": "markdown",
   "metadata": {},
   "source": [
    "Fix Duplicate Columns"
   ]
  },
  {
   "cell_type": "code",
   "execution_count": 12,
   "metadata": {},
   "outputs": [],
   "source": [
    "cols = []\n",
    "count = 1\n",
    "count2 = 1\n",
    "for column in df.columns:\n",
    "    if column == 'Time Stamp':\n",
    "        cols.append('Time Stamp '+str(count))\n",
    "        count+=1\n",
    "        continue\n",
    "    elif column == 'index':\n",
    "        cols.append('index '+str(count2))\n",
    "        count2+=1\n",
    "        continue\n",
    "    cols.append(column)\n",
    "df.columns = cols  "
   ]
  },
  {
   "cell_type": "code",
   "execution_count": 16,
   "metadata": {},
   "outputs": [
    {
     "data": {
      "text/plain": [
       "Text(0,0.5,'Time Stamp Diff')"
      ]
     },
     "execution_count": 16,
     "metadata": {},
     "output_type": "execute_result"
    },
    {
     "data": {
      "image/png": "[encoded data removed]",
      "text/plain": [
       "<Figure size 432x288 with 1 Axes>"
      ]
     },
     "metadata": {
      "needs_background": "light"
     },
     "output_type": "display_data"
    }
   ],
   "source": [
    "plt.figure()\n",
    "plt.plot(df['index 1'],df['Time Stamp 1']-df['Time Stamp 2'],'x')\n",
    "plt.xlabel('Index')\n",
    "plt.ylabel('Time Stamp Diff')"
   ]
  },
  {
   "cell_type": "code",
   "execution_count": 54,
   "metadata": {},
   "outputs": [
    {
     "data": {
      "text/plain": [
       "Text(0,0.5,'TL_BPM MSE')"
      ]
     },
     "execution_count": 54,
     "metadata": {},
     "output_type": "execute_result"
    },
    {
     "data": {
      "image/png": "[encoded data removed]",
      "text/plain": [
       "<Figure size 432x288 with 1 Axes>"
      ]
     },
     "metadata": {
      "needs_background": "light"
     },
     "output_type": "display_data"
    }
   ],
   "source": [
    "plt.figure()\n",
    "plt.plot(df['Reading 1'], df['MSE'],'x')\n",
    "plt.xlabel('BLM Reading')\n",
    "plt.ylabel('TL_BPM MSE')"
   ]
  }
 ],
 "metadata": {
  "kernelspec": {
   "display_name": "Python 3",
   "language": "python",
   "name": "python3"
  },
  "language_info": {
   "codemirror_mode": {
    "name": "ipython",
    "version": 3
   },
   "file_extension": ".py",
   "mimetype": "text/x-python",
   "name": "python",
   "nbconvert_exporter": "python",
   "pygments_lexer": "ipython3",
   "version": "3.7.1"
  }
 },
 "nbformat": 4,
 "nbformat_minor": 2
}
