{
 "cells": [
  {
   "cell_type": "code",
   "execution_count": 1,
   "metadata": {},
   "outputs": [
    {
     "name": "stdout",
     "output_type": "stream",
     "text": [
      "Once deleted, variables cannot be recovered. Proceed (y/[n])? y\n"
     ]
    }
   ],
   "source": [
    "%reset\n",
    "\n",
    "import pandas as pd\n",
    "import numpy as np\n",
    "import matplotlib.pyplot as plt\n",
    "from mpl_toolkits.mplot3d import Axes3D #For 3D Plots\n",
    "\n",
    "#Required by Jupyter for inlining images\n",
    "%matplotlib inline"
   ]
  },
  {
   "cell_type": "markdown",
   "metadata": {},
   "source": [
    "Functions:"
   ]
  },
  {
   "cell_type": "code",
   "execution_count": 9,
   "metadata": {},
   "outputs": [],
   "source": [
    "def match_datasets(df_1, col_index_1, df_2, col_index_2, lower_epsilon, upper_epsilon):\n",
    "    #col_indexes are the names of the columns to search (eg. 'Time Stamp')\n",
    "    #Epsilon is the tolerance in seconds\n",
    "    \n",
    "    lenDf = len(df_1.columns) + len(df_2.columns)\n",
    "    df = pd.DataFrame()#columns=list(range(0,lenDf)))\n",
    "    \n",
    "    matched = 0 #Number of elements matched\n",
    "    dropped_df_1 = 0 #Number of elements dropped from df_1\n",
    "    dropped_df_2 = 0 #Number of elements dropped from df_2\n",
    "    \n",
    "    #Ensure Dataframes are sorted by timestamp\n",
    "    df_1 = df_1.sort_values(by=[col_index_1]).reset_index()\n",
    "    df_2 = df_2.sort_values(by=[col_index_2]).reset_index()\n",
    "    \n",
    "    i = 0 #keeps track of index of df_1\n",
    "    j = 0 #keeps track of index of df_2\n",
    "    while i < len(df_1[col_index_1])-1 and j < len(df_2[col_index_2])-1:\n",
    "        #if abs(df_1[col_index_1][i]-df_2[col_index_2][j]) < epsilon:\n",
    "        if (df_1[col_index_1][i]-df_2[col_index_2][j]) > lower_epsilon and (df_1[col_index_1][i]-df_2[col_index_2][j]) < upper_epsilon:\n",
    "            #Case 1:\n",
    "            #Points matched\n",
    "            matched = matched + 1\n",
    "            #Add to new DataFrame:\n",
    "            row = pd.Series(df_1.iloc[i,:].append(df_2.iloc[j,:])).to_frame().T\n",
    "            df = df.append(row,ignore_index=True)\n",
    "            #Increment both i and j\n",
    "            i = i + 1\n",
    "            j = j + 1\n",
    "        #Lookahead on i\n",
    "        elif df_1[col_index_1][i] < df_2[col_index_2][j]:\n",
    "            #Case 2:\n",
    "            i = i + 1\n",
    "            dropped_df_1 = dropped_df_1 + 1 \n",
    "            while df_1[col_index_1][i] < df_2[col_index_2][j]:\n",
    "                #if abs(df_1[col_index_1][i]-df_2[col_index_2][j]) < epsilon:\n",
    "                if (df_1[col_index_1][i]-df_2[col_index_2][j]) > lower_epsilon and (df_1[col_index_1][i]-df_2[col_index_2][j]) < upper_epsilon:\n",
    "                    #Points Matched\n",
    "                    matched = matched + 1\n",
    "                    i = i + 1\n",
    "                    j = j + 1\n",
    "                    break\n",
    "                else:\n",
    "                    i = i + 1\n",
    "                    dropped_df_1 = dropped_df_1 + 1\n",
    "        elif df_1[col_index_1][i] > df_2[col_index_2][j]:\n",
    "            #Case 3:\n",
    "            j = j + 1\n",
    "            dropped_df_2 = dropped_df_2 + 1 \n",
    "            while df_1[col_index_1][i] > df_2[col_index_2][j]:\n",
    "                #if abs(df_1[col_index_1][i]-df_2[col_index_2][j]) < epsilon:\n",
    "                if (df_1[col_index_1][i]-df_2[col_index_2][j]) > lower_epsilon and (df_1[col_index_1][i]-df_2[col_index_2][j]) < upper_epsilon:\n",
    "                    #Points Matched\n",
    "                    matched = matched + 1\n",
    "                    i = i + 1\n",
    "                    j = j + 1\n",
    "                    break\n",
    "                else:\n",
    "                    j = j + 1\n",
    "                    dropped_df_2 = dropped_df_2 + 1\n",
    "                \n",
    "        \n",
    " \n",
    "    print('Matched: ' + str(matched))\n",
    "    print('Dropped from 1st df: ' + str(dropped_df_1))\n",
    "    print('Dropped from 2nd df: ' + str(dropped_df_2))\n",
    "    #return pd.DataFrame.from_records(rows)\n",
    "    #print(rows)  \n",
    "    \n",
    "    return df"
   ]
  },
  {
   "cell_type": "markdown",
   "metadata": {},
   "source": [
    "## Read and arrange separate Datasets"
   ]
  },
  {
   "cell_type": "markdown",
   "metadata": {},
   "source": [
    "Note all this is for Beam 1 only for now"
   ]
  },
  {
   "cell_type": "markdown",
   "metadata": {},
   "source": [
    "#### TL_BPM"
   ]
  },
  {
   "cell_type": "code",
   "execution_count": 4,
   "metadata": {},
   "outputs": [
    {
     "data": {
      "text/html": [
       "<div>\n",
       "<style scoped>\n",
       "    .dataframe tbody tr th:only-of-type {\n",
       "        vertical-align: middle;\n",
       "    }\n",
       "\n",
       "    .dataframe tbody tr th {\n",
       "        vertical-align: top;\n",
       "    }\n",
       "\n",
       "    .dataframe thead th {\n",
       "        text-align: right;\n",
       "    }\n",
       "</style>\n",
       "<table border=\"1\" class=\"dataframe\">\n",
       "  <thead>\n",
       "    <tr style=\"text-align: right;\">\n",
       "      <th></th>\n",
       "      <th>Time Stamp</th>\n",
       "      <th>1</th>\n",
       "      <th>2</th>\n",
       "      <th>3</th>\n",
       "      <th>4</th>\n",
       "      <th>5</th>\n",
       "      <th>6</th>\n",
       "      <th>7</th>\n",
       "      <th>8</th>\n",
       "      <th>9</th>\n",
       "      <th>10</th>\n",
       "      <th>11</th>\n",
       "      <th>12</th>\n",
       "      <th>13</th>\n",
       "      <th>14</th>\n",
       "      <th>15</th>\n",
       "      <th>16</th>\n",
       "      <th>17</th>\n",
       "      <th>18</th>\n",
       "      <th>MSE</th>\n",
       "    </tr>\n",
       "  </thead>\n",
       "  <tbody>\n",
       "    <tr>\n",
       "      <th>count</th>\n",
       "      <td>1.463000e+03</td>\n",
       "      <td>1463.000000</td>\n",
       "      <td>1463.000000</td>\n",
       "      <td>1463.000000</td>\n",
       "      <td>1463.000000</td>\n",
       "      <td>1463.000000</td>\n",
       "      <td>1463.000000</td>\n",
       "      <td>1463.000000</td>\n",
       "      <td>1463.000000</td>\n",
       "      <td>1463.000000</td>\n",
       "      <td>1463.000000</td>\n",
       "      <td>1463.000000</td>\n",
       "      <td>1463.000000</td>\n",
       "      <td>1463.000000</td>\n",
       "      <td>1463.000000</td>\n",
       "      <td>1463.000000</td>\n",
       "      <td>1463.000000</td>\n",
       "      <td>1463.000000</td>\n",
       "      <td>1463.000000</td>\n",
       "      <td>1463.000000</td>\n",
       "    </tr>\n",
       "    <tr>\n",
       "      <th>mean</th>\n",
       "      <td>1.537178e+09</td>\n",
       "      <td>0.177103</td>\n",
       "      <td>0.747425</td>\n",
       "      <td>-0.622799</td>\n",
       "      <td>0.490143</td>\n",
       "      <td>-1.083194</td>\n",
       "      <td>-1.026073</td>\n",
       "      <td>-1.024099</td>\n",
       "      <td>-0.723945</td>\n",
       "      <td>0.252059</td>\n",
       "      <td>-0.734644</td>\n",
       "      <td>0.264803</td>\n",
       "      <td>-0.344382</td>\n",
       "      <td>-0.671107</td>\n",
       "      <td>-1.404609</td>\n",
       "      <td>0.166483</td>\n",
       "      <td>-1.229993</td>\n",
       "      <td>-0.454260</td>\n",
       "      <td>-0.335478</td>\n",
       "      <td>0.196936</td>\n",
       "    </tr>\n",
       "    <tr>\n",
       "      <th>std</th>\n",
       "      <td>1.645625e+06</td>\n",
       "      <td>0.198043</td>\n",
       "      <td>0.337457</td>\n",
       "      <td>0.312359</td>\n",
       "      <td>0.219021</td>\n",
       "      <td>0.273954</td>\n",
       "      <td>0.335702</td>\n",
       "      <td>0.373043</td>\n",
       "      <td>0.233695</td>\n",
       "      <td>0.214410</td>\n",
       "      <td>0.330142</td>\n",
       "      <td>0.139817</td>\n",
       "      <td>0.210146</td>\n",
       "      <td>0.306106</td>\n",
       "      <td>0.275260</td>\n",
       "      <td>0.153074</td>\n",
       "      <td>0.216674</td>\n",
       "      <td>0.132421</td>\n",
       "      <td>0.169903</td>\n",
       "      <td>0.136026</td>\n",
       "    </tr>\n",
       "    <tr>\n",
       "      <th>min</th>\n",
       "      <td>1.534476e+09</td>\n",
       "      <td>-0.631000</td>\n",
       "      <td>-0.146000</td>\n",
       "      <td>-1.963000</td>\n",
       "      <td>-0.105000</td>\n",
       "      <td>-2.269000</td>\n",
       "      <td>-1.795000</td>\n",
       "      <td>-2.760000</td>\n",
       "      <td>-1.128000</td>\n",
       "      <td>-0.682000</td>\n",
       "      <td>-1.287000</td>\n",
       "      <td>-0.055000</td>\n",
       "      <td>-1.144000</td>\n",
       "      <td>-1.570000</td>\n",
       "      <td>-2.250000</td>\n",
       "      <td>-0.719000</td>\n",
       "      <td>-1.758000</td>\n",
       "      <td>-1.151000</td>\n",
       "      <td>-1.120000</td>\n",
       "      <td>0.000000</td>\n",
       "    </tr>\n",
       "    <tr>\n",
       "      <th>25%</th>\n",
       "      <td>1.535814e+09</td>\n",
       "      <td>0.022000</td>\n",
       "      <td>0.575000</td>\n",
       "      <td>-0.829000</td>\n",
       "      <td>0.358500</td>\n",
       "      <td>-1.248000</td>\n",
       "      <td>-1.261000</td>\n",
       "      <td>-1.253000</td>\n",
       "      <td>-0.923000</td>\n",
       "      <td>0.103500</td>\n",
       "      <td>-0.978000</td>\n",
       "      <td>0.164000</td>\n",
       "      <td>-0.490500</td>\n",
       "      <td>-0.899500</td>\n",
       "      <td>-1.569000</td>\n",
       "      <td>0.068000</td>\n",
       "      <td>-1.307000</td>\n",
       "      <td>-0.534000</td>\n",
       "      <td>-0.438000</td>\n",
       "      <td>0.124314</td>\n",
       "    </tr>\n",
       "    <tr>\n",
       "      <th>50%</th>\n",
       "      <td>1.536547e+09</td>\n",
       "      <td>0.175000</td>\n",
       "      <td>0.762000</td>\n",
       "      <td>-0.642000</td>\n",
       "      <td>0.487000</td>\n",
       "      <td>-1.073000</td>\n",
       "      <td>-1.033000</td>\n",
       "      <td>-1.007000</td>\n",
       "      <td>-0.722000</td>\n",
       "      <td>0.249000</td>\n",
       "      <td>-0.834000</td>\n",
       "      <td>0.267000</td>\n",
       "      <td>-0.341000</td>\n",
       "      <td>-0.660000</td>\n",
       "      <td>-1.389000</td>\n",
       "      <td>0.162000</td>\n",
       "      <td>-1.258000</td>\n",
       "      <td>-0.466000</td>\n",
       "      <td>-0.345000</td>\n",
       "      <td>0.156998</td>\n",
       "    </tr>\n",
       "    <tr>\n",
       "      <th>75%</th>\n",
       "      <td>1.538572e+09</td>\n",
       "      <td>0.335000</td>\n",
       "      <td>0.983500</td>\n",
       "      <td>-0.404500</td>\n",
       "      <td>0.670000</td>\n",
       "      <td>-0.957000</td>\n",
       "      <td>-0.813000</td>\n",
       "      <td>-0.798000</td>\n",
       "      <td>-0.578000</td>\n",
       "      <td>0.407000</td>\n",
       "      <td>-0.458000</td>\n",
       "      <td>0.360000</td>\n",
       "      <td>-0.218000</td>\n",
       "      <td>-0.476000</td>\n",
       "      <td>-1.305000</td>\n",
       "      <td>0.261000</td>\n",
       "      <td>-1.199500</td>\n",
       "      <td>-0.385000</td>\n",
       "      <td>-0.240500</td>\n",
       "      <td>0.237513</td>\n",
       "    </tr>\n",
       "    <tr>\n",
       "      <th>max</th>\n",
       "      <td>1.540021e+09</td>\n",
       "      <td>0.816000</td>\n",
       "      <td>1.561000</td>\n",
       "      <td>0.421000</td>\n",
       "      <td>1.193000</td>\n",
       "      <td>0.000000</td>\n",
       "      <td>0.000000</td>\n",
       "      <td>0.104000</td>\n",
       "      <td>0.000000</td>\n",
       "      <td>0.879000</td>\n",
       "      <td>0.136000</td>\n",
       "      <td>0.636000</td>\n",
       "      <td>0.306000</td>\n",
       "      <td>0.574000</td>\n",
       "      <td>0.000000</td>\n",
       "      <td>0.661000</td>\n",
       "      <td>0.000000</td>\n",
       "      <td>0.000000</td>\n",
       "      <td>0.128000</td>\n",
       "      <td>1.016407</td>\n",
       "    </tr>\n",
       "  </tbody>\n",
       "</table>\n",
       "</div>"
      ],
      "text/plain": [
       "         Time Stamp            1            2            3            4  \\\n",
       "count  1.463000e+03  1463.000000  1463.000000  1463.000000  1463.000000   \n",
       "mean   1.537178e+09     0.177103     0.747425    -0.622799     0.490143   \n",
       "std    1.645625e+06     0.198043     0.337457     0.312359     0.219021   \n",
       "min    1.534476e+09    -0.631000    -0.146000    -1.963000    -0.105000   \n",
       "25%    1.535814e+09     0.022000     0.575000    -0.829000     0.358500   \n",
       "50%    1.536547e+09     0.175000     0.762000    -0.642000     0.487000   \n",
       "75%    1.538572e+09     0.335000     0.983500    -0.404500     0.670000   \n",
       "max    1.540021e+09     0.816000     1.561000     0.421000     1.193000   \n",
       "\n",
       "                 5            6            7            8            9  \\\n",
       "count  1463.000000  1463.000000  1463.000000  1463.000000  1463.000000   \n",
       "mean     -1.083194    -1.026073    -1.024099    -0.723945     0.252059   \n",
       "std       0.273954     0.335702     0.373043     0.233695     0.214410   \n",
       "min      -2.269000    -1.795000    -2.760000    -1.128000    -0.682000   \n",
       "25%      -1.248000    -1.261000    -1.253000    -0.923000     0.103500   \n",
       "50%      -1.073000    -1.033000    -1.007000    -0.722000     0.249000   \n",
       "75%      -0.957000    -0.813000    -0.798000    -0.578000     0.407000   \n",
       "max       0.000000     0.000000     0.104000     0.000000     0.879000   \n",
       "\n",
       "                10           11           12           13           14  \\\n",
       "count  1463.000000  1463.000000  1463.000000  1463.000000  1463.000000   \n",
       "mean     -0.734644     0.264803    -0.344382    -0.671107    -1.404609   \n",
       "std       0.330142     0.139817     0.210146     0.306106     0.275260   \n",
       "min      -1.287000    -0.055000    -1.144000    -1.570000    -2.250000   \n",
       "25%      -0.978000     0.164000    -0.490500    -0.899500    -1.569000   \n",
       "50%      -0.834000     0.267000    -0.341000    -0.660000    -1.389000   \n",
       "75%      -0.458000     0.360000    -0.218000    -0.476000    -1.305000   \n",
       "max       0.136000     0.636000     0.306000     0.574000     0.000000   \n",
       "\n",
       "                15           16           17           18          MSE  \n",
       "count  1463.000000  1463.000000  1463.000000  1463.000000  1463.000000  \n",
       "mean      0.166483    -1.229993    -0.454260    -0.335478     0.196936  \n",
       "std       0.153074     0.216674     0.132421     0.169903     0.136026  \n",
       "min      -0.719000    -1.758000    -1.151000    -1.120000     0.000000  \n",
       "25%       0.068000    -1.307000    -0.534000    -0.438000     0.124314  \n",
       "50%       0.162000    -1.258000    -0.466000    -0.345000     0.156998  \n",
       "75%       0.261000    -1.199500    -0.385000    -0.240500     0.237513  \n",
       "max       0.661000     0.000000     0.000000     0.128000     1.016407  "
      ]
     },
     "execution_count": 4,
     "metadata": {},
     "output_type": "execute_result"
    }
   ],
   "source": [
    "TL_BPM = pd.read_pickle('../Data/Beam1_TL_BPM.pkl')\n",
    "TL_BPM.describe()"
   ]
  },
  {
   "cell_type": "markdown",
   "metadata": {},
   "source": [
    "Just Use MSE for now and Normalise it"
   ]
  },
  {
   "cell_type": "code",
   "execution_count": 6,
   "metadata": {},
   "outputs": [
    {
     "data": {
      "text/html": [
       "<div>\n",
       "<style scoped>\n",
       "    .dataframe tbody tr th:only-of-type {\n",
       "        vertical-align: middle;\n",
       "    }\n",
       "\n",
       "    .dataframe tbody tr th {\n",
       "        vertical-align: top;\n",
       "    }\n",
       "\n",
       "    .dataframe thead th {\n",
       "        text-align: right;\n",
       "    }\n",
       "</style>\n",
       "<table border=\"1\" class=\"dataframe\">\n",
       "  <thead>\n",
       "    <tr style=\"text-align: right;\">\n",
       "      <th></th>\n",
       "      <th>Time Stamp BPM</th>\n",
       "      <th>BPM MSE</th>\n",
       "    </tr>\n",
       "  </thead>\n",
       "  <tbody>\n",
       "    <tr>\n",
       "      <th>0</th>\n",
       "      <td>1.534476e+09</td>\n",
       "      <td>0.000000</td>\n",
       "    </tr>\n",
       "    <tr>\n",
       "      <th>1</th>\n",
       "      <td>1.534476e+09</td>\n",
       "      <td>0.013231</td>\n",
       "    </tr>\n",
       "    <tr>\n",
       "      <th>2</th>\n",
       "      <td>1.534476e+09</td>\n",
       "      <td>0.005537</td>\n",
       "    </tr>\n",
       "    <tr>\n",
       "      <th>3</th>\n",
       "      <td>1.534476e+09</td>\n",
       "      <td>0.008761</td>\n",
       "    </tr>\n",
       "    <tr>\n",
       "      <th>4</th>\n",
       "      <td>1.534477e+09</td>\n",
       "      <td>0.011608</td>\n",
       "    </tr>\n",
       "  </tbody>\n",
       "</table>\n",
       "</div>"
      ],
      "text/plain": [
       "   Time Stamp BPM   BPM MSE\n",
       "0    1.534476e+09  0.000000\n",
       "1    1.534476e+09  0.013231\n",
       "2    1.534476e+09  0.005537\n",
       "3    1.534476e+09  0.008761\n",
       "4    1.534477e+09  0.011608"
      ]
     },
     "execution_count": 6,
     "metadata": {},
     "output_type": "execute_result"
    }
   ],
   "source": [
    "Data = pd.DataFrame(data = {'Time Stamp BPM' : TL_BPM['Time Stamp'], 'BPM MSE': TL_BPM['MSE']})\n",
    "Data['BPM MSE'] = (Data['BPM MSE']-min(Data['BPM MSE']))/(max(Data['BPM MSE'])-min(Data['BPM MSE']))\n",
    "Data.head()"
   ]
  },
  {
   "cell_type": "code",
   "execution_count": 7,
   "metadata": {},
   "outputs": [
    {
     "data": {
      "text/plain": [
       "Text(0.5,1,'MSE of Collimator Positions in the TL')"
      ]
     },
     "execution_count": 7,
     "metadata": {},
     "output_type": "execute_result"
    },
    {
     "data": {
      "image/png": "[encoded data removed]",
      "text/plain": [
       "<Figure size 432x288 with 1 Axes>"
      ]
     },
     "metadata": {
      "needs_background": "light"
     },
     "output_type": "display_data"
    }
   ],
   "source": [
    "fig = plt.figure()\n",
    "plt.plot(Data['Time Stamp BPM'],Data['BPM MSE'],'x')\n",
    "plt.xlabel('Time Stamp')\n",
    "plt.ylabel('BPM MSE')\n",
    "plt.title('MSE of Collimator Positions in the TL')\n",
    "\n",
    "#NOTE: Here look at the plot, it looks like 2 separate tests happened here\n",
    "#Should the MSE of the second test be based on the position of the first row, or on \n",
    "#the position of the first row of the second test?"
   ]
  },
  {
   "cell_type": "markdown",
   "metadata": {},
   "source": [
    "#### TDI BLM Readings"
   ]
  },
  {
   "cell_type": "code",
   "execution_count": 10,
   "metadata": {},
   "outputs": [
    {
     "data": {
      "text/html": [
       "<div>\n",
       "<style scoped>\n",
       "    .dataframe tbody tr th:only-of-type {\n",
       "        vertical-align: middle;\n",
       "    }\n",
       "\n",
       "    .dataframe tbody tr th {\n",
       "        vertical-align: top;\n",
       "    }\n",
       "\n",
       "    .dataframe thead th {\n",
       "        text-align: right;\n",
       "    }\n",
       "</style>\n",
       "<table border=\"1\" class=\"dataframe\">\n",
       "  <thead>\n",
       "    <tr style=\"text-align: right;\">\n",
       "      <th></th>\n",
       "      <th>Time Stamp</th>\n",
       "      <th>Reading 1</th>\n",
       "      <th>Reading 2</th>\n",
       "      <th>Reading 3</th>\n",
       "    </tr>\n",
       "  </thead>\n",
       "  <tbody>\n",
       "    <tr>\n",
       "      <th>count</th>\n",
       "      <td>1.898000e+03</td>\n",
       "      <td>1898.000000</td>\n",
       "      <td>1898.000000</td>\n",
       "      <td>1898.000000</td>\n",
       "    </tr>\n",
       "    <tr>\n",
       "      <th>mean</th>\n",
       "      <td>1.537150e+09</td>\n",
       "      <td>0.117479</td>\n",
       "      <td>0.131212</td>\n",
       "      <td>0.109946</td>\n",
       "    </tr>\n",
       "    <tr>\n",
       "      <th>std</th>\n",
       "      <td>1.675666e+06</td>\n",
       "      <td>0.132458</td>\n",
       "      <td>0.127527</td>\n",
       "      <td>0.123250</td>\n",
       "    </tr>\n",
       "    <tr>\n",
       "      <th>min</th>\n",
       "      <td>1.534476e+09</td>\n",
       "      <td>0.000000</td>\n",
       "      <td>0.000000</td>\n",
       "      <td>0.000000</td>\n",
       "    </tr>\n",
       "    <tr>\n",
       "      <th>25%</th>\n",
       "      <td>1.535796e+09</td>\n",
       "      <td>0.011825</td>\n",
       "      <td>0.024877</td>\n",
       "      <td>0.003993</td>\n",
       "    </tr>\n",
       "    <tr>\n",
       "      <th>50%</th>\n",
       "      <td>1.536506e+09</td>\n",
       "      <td>0.094571</td>\n",
       "      <td>0.116093</td>\n",
       "      <td>0.089513</td>\n",
       "    </tr>\n",
       "    <tr>\n",
       "      <th>75%</th>\n",
       "      <td>1.538614e+09</td>\n",
       "      <td>0.156472</td>\n",
       "      <td>0.185786</td>\n",
       "      <td>0.147227</td>\n",
       "    </tr>\n",
       "    <tr>\n",
       "      <th>max</th>\n",
       "      <td>1.540021e+09</td>\n",
       "      <td>1.000000</td>\n",
       "      <td>1.000000</td>\n",
       "      <td>1.000000</td>\n",
       "    </tr>\n",
       "  </tbody>\n",
       "</table>\n",
       "</div>"
      ],
      "text/plain": [
       "         Time Stamp    Reading 1    Reading 2    Reading 3\n",
       "count  1.898000e+03  1898.000000  1898.000000  1898.000000\n",
       "mean   1.537150e+09     0.117479     0.131212     0.109946\n",
       "std    1.675666e+06     0.132458     0.127527     0.123250\n",
       "min    1.534476e+09     0.000000     0.000000     0.000000\n",
       "25%    1.535796e+09     0.011825     0.024877     0.003993\n",
       "50%    1.536506e+09     0.094571     0.116093     0.089513\n",
       "75%    1.538614e+09     0.156472     0.185786     0.147227\n",
       "max    1.540021e+09     1.000000     1.000000     1.000000"
      ]
     },
     "execution_count": 10,
     "metadata": {},
     "output_type": "execute_result"
    }
   ],
   "source": [
    "BLM = pd.read_pickle('../Data/Beam1_BLM.pkl')\n",
    "BLM.describe()"
   ]
  },
  {
   "cell_type": "markdown",
   "metadata": {},
   "source": [
    "Note: Readings already normalised"
   ]
  },
  {
   "cell_type": "markdown",
   "metadata": {},
   "source": [
    "We'll just use Reading 1 since we showed they're highly correlated (an alternative to look into could be to put everything in then use PCA to lower the dimension)"
   ]
  },
  {
   "cell_type": "code",
   "execution_count": 11,
   "metadata": {},
   "outputs": [
    {
     "data": {
      "text/html": [
       "<div>\n",
       "<style scoped>\n",
       "    .dataframe tbody tr th:only-of-type {\n",
       "        vertical-align: middle;\n",
       "    }\n",
       "\n",
       "    .dataframe tbody tr th {\n",
       "        vertical-align: top;\n",
       "    }\n",
       "\n",
       "    .dataframe thead th {\n",
       "        text-align: right;\n",
       "    }\n",
       "</style>\n",
       "<table border=\"1\" class=\"dataframe\">\n",
       "  <thead>\n",
       "    <tr style=\"text-align: right;\">\n",
       "      <th></th>\n",
       "      <th>Time Stamp BLM</th>\n",
       "      <th>BLM</th>\n",
       "    </tr>\n",
       "  </thead>\n",
       "  <tbody>\n",
       "    <tr>\n",
       "      <th>0</th>\n",
       "      <td>1.534476e+09</td>\n",
       "      <td>0.032946</td>\n",
       "    </tr>\n",
       "    <tr>\n",
       "      <th>1</th>\n",
       "      <td>1.534476e+09</td>\n",
       "      <td>0.054595</td>\n",
       "    </tr>\n",
       "    <tr>\n",
       "      <th>2</th>\n",
       "      <td>1.534476e+09</td>\n",
       "      <td>0.031869</td>\n",
       "    </tr>\n",
       "    <tr>\n",
       "      <th>3</th>\n",
       "      <td>1.534476e+09</td>\n",
       "      <td>0.057333</td>\n",
       "    </tr>\n",
       "    <tr>\n",
       "      <th>4</th>\n",
       "      <td>1.534477e+09</td>\n",
       "      <td>0.045874</td>\n",
       "    </tr>\n",
       "  </tbody>\n",
       "</table>\n",
       "</div>"
      ],
      "text/plain": [
       "   Time Stamp BLM       BLM\n",
       "0    1.534476e+09  0.032946\n",
       "1    1.534476e+09  0.054595\n",
       "2    1.534476e+09  0.031869\n",
       "3    1.534476e+09  0.057333\n",
       "4    1.534477e+09  0.045874"
      ]
     },
     "execution_count": 11,
     "metadata": {},
     "output_type": "execute_result"
    }
   ],
   "source": [
    "BLM = pd.DataFrame(data={'Time Stamp BLM':BLM['Time Stamp'], 'BLM': BLM['Reading 1']})\n",
    "BLM.head()"
   ]
  },
  {
   "cell_type": "markdown",
   "metadata": {},
   "source": [
    "#### Merge the 2 Datasets"
   ]
  },
  {
   "cell_type": "code",
   "execution_count": 12,
   "metadata": {},
   "outputs": [
    {
     "name": "stdout",
     "output_type": "stream",
     "text": [
      "Matched: 1420\n",
      "Dropped from 1st df: 475\n",
      "Dropped from 2nd df: 42\n"
     ]
    },
    {
     "data": {
      "text/html": [
       "<div>\n",
       "<style scoped>\n",
       "    .dataframe tbody tr th:only-of-type {\n",
       "        vertical-align: middle;\n",
       "    }\n",
       "\n",
       "    .dataframe tbody tr th {\n",
       "        vertical-align: top;\n",
       "    }\n",
       "\n",
       "    .dataframe thead th {\n",
       "        text-align: right;\n",
       "    }\n",
       "</style>\n",
       "<table border=\"1\" class=\"dataframe\">\n",
       "  <thead>\n",
       "    <tr style=\"text-align: right;\">\n",
       "      <th></th>\n",
       "      <th>index</th>\n",
       "      <th>Time Stamp BLM</th>\n",
       "      <th>BLM</th>\n",
       "      <th>index</th>\n",
       "      <th>Time Stamp BPM</th>\n",
       "      <th>BPM MSE</th>\n",
       "    </tr>\n",
       "  </thead>\n",
       "  <tbody>\n",
       "    <tr>\n",
       "      <th>0</th>\n",
       "      <td>0.0</td>\n",
       "      <td>1.534476e+09</td>\n",
       "      <td>0.032946</td>\n",
       "      <td>0.0</td>\n",
       "      <td>1.534476e+09</td>\n",
       "      <td>0.000000</td>\n",
       "    </tr>\n",
       "    <tr>\n",
       "      <th>1</th>\n",
       "      <td>1.0</td>\n",
       "      <td>1.534476e+09</td>\n",
       "      <td>0.054595</td>\n",
       "      <td>1.0</td>\n",
       "      <td>1.534476e+09</td>\n",
       "      <td>0.013231</td>\n",
       "    </tr>\n",
       "    <tr>\n",
       "      <th>2</th>\n",
       "      <td>2.0</td>\n",
       "      <td>1.534476e+09</td>\n",
       "      <td>0.031869</td>\n",
       "      <td>2.0</td>\n",
       "      <td>1.534476e+09</td>\n",
       "      <td>0.005537</td>\n",
       "    </tr>\n",
       "    <tr>\n",
       "      <th>3</th>\n",
       "      <td>3.0</td>\n",
       "      <td>1.534476e+09</td>\n",
       "      <td>0.057333</td>\n",
       "      <td>3.0</td>\n",
       "      <td>1.534476e+09</td>\n",
       "      <td>0.008761</td>\n",
       "    </tr>\n",
       "    <tr>\n",
       "      <th>4</th>\n",
       "      <td>4.0</td>\n",
       "      <td>1.534477e+09</td>\n",
       "      <td>0.045874</td>\n",
       "      <td>4.0</td>\n",
       "      <td>1.534477e+09</td>\n",
       "      <td>0.011608</td>\n",
       "    </tr>\n",
       "  </tbody>\n",
       "</table>\n",
       "</div>"
      ],
      "text/plain": [
       "   index  Time Stamp BLM       BLM  index  Time Stamp BPM   BPM MSE\n",
       "0    0.0    1.534476e+09  0.032946    0.0    1.534476e+09  0.000000\n",
       "1    1.0    1.534476e+09  0.054595    1.0    1.534476e+09  0.013231\n",
       "2    2.0    1.534476e+09  0.031869    2.0    1.534476e+09  0.005537\n",
       "3    3.0    1.534476e+09  0.057333    3.0    1.534476e+09  0.008761\n",
       "4    4.0    1.534477e+09  0.045874    4.0    1.534477e+09  0.011608"
      ]
     },
     "execution_count": 12,
     "metadata": {},
     "output_type": "execute_result"
    }
   ],
   "source": [
    "Data = match_datasets(BLM,'Time Stamp BLM',Data,'Time Stamp BPM', 14 ,20)\n",
    "Data.head()"
   ]
  },
  {
   "cell_type": "markdown",
   "metadata": {},
   "source": [
    "Drop Index Columns"
   ]
  },
  {
   "cell_type": "code",
   "execution_count": 13,
   "metadata": {},
   "outputs": [
    {
     "data": {
      "text/html": [
       "<div>\n",
       "<style scoped>\n",
       "    .dataframe tbody tr th:only-of-type {\n",
       "        vertical-align: middle;\n",
       "    }\n",
       "\n",
       "    .dataframe tbody tr th {\n",
       "        vertical-align: top;\n",
       "    }\n",
       "\n",
       "    .dataframe thead th {\n",
       "        text-align: right;\n",
       "    }\n",
       "</style>\n",
       "<table border=\"1\" class=\"dataframe\">\n",
       "  <thead>\n",
       "    <tr style=\"text-align: right;\">\n",
       "      <th></th>\n",
       "      <th>Time Stamp BLM</th>\n",
       "      <th>BLM</th>\n",
       "      <th>Time Stamp BPM</th>\n",
       "      <th>BPM MSE</th>\n",
       "    </tr>\n",
       "  </thead>\n",
       "  <tbody>\n",
       "    <tr>\n",
       "      <th>0</th>\n",
       "      <td>1.534476e+09</td>\n",
       "      <td>0.032946</td>\n",
       "      <td>1.534476e+09</td>\n",
       "      <td>0.000000</td>\n",
       "    </tr>\n",
       "    <tr>\n",
       "      <th>1</th>\n",
       "      <td>1.534476e+09</td>\n",
       "      <td>0.054595</td>\n",
       "      <td>1.534476e+09</td>\n",
       "      <td>0.013231</td>\n",
       "    </tr>\n",
       "    <tr>\n",
       "      <th>2</th>\n",
       "      <td>1.534476e+09</td>\n",
       "      <td>0.031869</td>\n",
       "      <td>1.534476e+09</td>\n",
       "      <td>0.005537</td>\n",
       "    </tr>\n",
       "    <tr>\n",
       "      <th>3</th>\n",
       "      <td>1.534476e+09</td>\n",
       "      <td>0.057333</td>\n",
       "      <td>1.534476e+09</td>\n",
       "      <td>0.008761</td>\n",
       "    </tr>\n",
       "    <tr>\n",
       "      <th>4</th>\n",
       "      <td>1.534477e+09</td>\n",
       "      <td>0.045874</td>\n",
       "      <td>1.534477e+09</td>\n",
       "      <td>0.011608</td>\n",
       "    </tr>\n",
       "  </tbody>\n",
       "</table>\n",
       "</div>"
      ],
      "text/plain": [
       "   Time Stamp BLM       BLM  Time Stamp BPM   BPM MSE\n",
       "0    1.534476e+09  0.032946    1.534476e+09  0.000000\n",
       "1    1.534476e+09  0.054595    1.534476e+09  0.013231\n",
       "2    1.534476e+09  0.031869    1.534476e+09  0.005537\n",
       "3    1.534476e+09  0.057333    1.534476e+09  0.008761\n",
       "4    1.534477e+09  0.045874    1.534477e+09  0.011608"
      ]
     },
     "execution_count": 13,
     "metadata": {},
     "output_type": "execute_result"
    }
   ],
   "source": [
    "Data = Data.drop(['index'],axis=1)\n",
    "Data.head()"
   ]
  },
  {
   "cell_type": "markdown",
   "metadata": {},
   "source": [
    "#### Intensities (LHC-SPS)"
   ]
  },
  {
   "cell_type": "code",
   "execution_count": 16,
   "metadata": {},
   "outputs": [
    {
     "data": {
      "text/html": [
       "<div>\n",
       "<style scoped>\n",
       "    .dataframe tbody tr th:only-of-type {\n",
       "        vertical-align: middle;\n",
       "    }\n",
       "\n",
       "    .dataframe tbody tr th {\n",
       "        vertical-align: top;\n",
       "    }\n",
       "\n",
       "    .dataframe thead th {\n",
       "        text-align: right;\n",
       "    }\n",
       "</style>\n",
       "<table border=\"1\" class=\"dataframe\">\n",
       "  <thead>\n",
       "    <tr style=\"text-align: right;\">\n",
       "      <th></th>\n",
       "      <th>Time Stamp LHC</th>\n",
       "      <th>LHC-SPS</th>\n",
       "    </tr>\n",
       "  </thead>\n",
       "  <tbody>\n",
       "    <tr>\n",
       "      <th>0</th>\n",
       "      <td>1.534476e+09</td>\n",
       "      <td>-9.420752e+08</td>\n",
       "    </tr>\n",
       "    <tr>\n",
       "      <th>1</th>\n",
       "      <td>1.534476e+09</td>\n",
       "      <td>-9.910938e+08</td>\n",
       "    </tr>\n",
       "    <tr>\n",
       "      <th>2</th>\n",
       "      <td>1.534476e+09</td>\n",
       "      <td>1.496010e+09</td>\n",
       "    </tr>\n",
       "    <tr>\n",
       "      <th>3</th>\n",
       "      <td>1.534476e+09</td>\n",
       "      <td>1.760888e+10</td>\n",
       "    </tr>\n",
       "    <tr>\n",
       "      <th>4</th>\n",
       "      <td>1.534477e+09</td>\n",
       "      <td>-1.270084e+09</td>\n",
       "    </tr>\n",
       "  </tbody>\n",
       "</table>\n",
       "</div>"
      ],
      "text/plain": [
       "   Time Stamp LHC       LHC-SPS\n",
       "0    1.534476e+09 -9.420752e+08\n",
       "1    1.534476e+09 -9.910938e+08\n",
       "2    1.534476e+09  1.496010e+09\n",
       "3    1.534476e+09  1.760888e+10\n",
       "4    1.534477e+09 -1.270084e+09"
      ]
     },
     "execution_count": 16,
     "metadata": {},
     "output_type": "execute_result"
    }
   ],
   "source": [
    "Intensities = pd.read_pickle('../Data/intensities.pkl')\n",
    "Intensities = pd.DataFrame({'Time Stamp LHC': Intensities['Time Stamp'], 'LHC-SPS':Intensities['Change in Intensities']})\n",
    "Intensities.head()"
   ]
  },
  {
   "cell_type": "markdown",
   "metadata": {},
   "source": [
    "Normalise Readings:"
   ]
  },
  {
   "cell_type": "code",
   "execution_count": 17,
   "metadata": {},
   "outputs": [
    {
     "data": {
      "text/plain": [
       "count    1022.000000\n",
       "mean        0.993315\n",
       "std         0.056351\n",
       "min         0.000000\n",
       "25%         0.999598\n",
       "50%         0.999738\n",
       "75%         0.999818\n",
       "max         1.000000\n",
       "Name: LHC-SPS, dtype: float64"
      ]
     },
     "execution_count": 17,
     "metadata": {},
     "output_type": "execute_result"
    }
   ],
   "source": [
    "Intensities['LHC-SPS'] = (Intensities['LHC-SPS']-min(Intensities['LHC-SPS']))/(max(Intensities['LHC-SPS'])-min(Intensities['LHC-SPS']))\n",
    "Intensities['LHC-SPS'].describe()"
   ]
  },
  {
   "cell_type": "markdown",
   "metadata": {},
   "source": [
    "#### Merge all datasets together"
   ]
  },
  {
   "cell_type": "code",
   "execution_count": 18,
   "metadata": {},
   "outputs": [
    {
     "name": "stdout",
     "output_type": "stream",
     "text": [
      "Matched: 901\n",
      "Dropped from 1st df: 120\n",
      "Dropped from 2nd df: 5\n"
     ]
    },
    {
     "data": {
      "text/html": [
       "<div>\n",
       "<style scoped>\n",
       "    .dataframe tbody tr th:only-of-type {\n",
       "        vertical-align: middle;\n",
       "    }\n",
       "\n",
       "    .dataframe tbody tr th {\n",
       "        vertical-align: top;\n",
       "    }\n",
       "\n",
       "    .dataframe thead th {\n",
       "        text-align: right;\n",
       "    }\n",
       "</style>\n",
       "<table border=\"1\" class=\"dataframe\">\n",
       "  <thead>\n",
       "    <tr style=\"text-align: right;\">\n",
       "      <th></th>\n",
       "      <th>index</th>\n",
       "      <th>Time Stamp LHC</th>\n",
       "      <th>LHC-SPS</th>\n",
       "      <th>index</th>\n",
       "      <th>Time Stamp BLM</th>\n",
       "      <th>BLM</th>\n",
       "      <th>Time Stamp BPM</th>\n",
       "      <th>BPM MSE</th>\n",
       "    </tr>\n",
       "  </thead>\n",
       "  <tbody>\n",
       "    <tr>\n",
       "      <th>0</th>\n",
       "      <td>0.0</td>\n",
       "      <td>1.534476e+09</td>\n",
       "      <td>0.999797</td>\n",
       "      <td>0.0</td>\n",
       "      <td>1.534476e+09</td>\n",
       "      <td>0.032946</td>\n",
       "      <td>1.534476e+09</td>\n",
       "      <td>0.000000</td>\n",
       "    </tr>\n",
       "    <tr>\n",
       "      <th>1</th>\n",
       "      <td>1.0</td>\n",
       "      <td>1.534476e+09</td>\n",
       "      <td>0.999797</td>\n",
       "      <td>1.0</td>\n",
       "      <td>1.534476e+09</td>\n",
       "      <td>0.054595</td>\n",
       "      <td>1.534476e+09</td>\n",
       "      <td>0.013231</td>\n",
       "    </tr>\n",
       "    <tr>\n",
       "      <th>2</th>\n",
       "      <td>2.0</td>\n",
       "      <td>1.534476e+09</td>\n",
       "      <td>0.999806</td>\n",
       "      <td>2.0</td>\n",
       "      <td>1.534476e+09</td>\n",
       "      <td>0.031869</td>\n",
       "      <td>1.534476e+09</td>\n",
       "      <td>0.005537</td>\n",
       "    </tr>\n",
       "    <tr>\n",
       "      <th>3</th>\n",
       "      <td>3.0</td>\n",
       "      <td>1.534476e+09</td>\n",
       "      <td>0.999864</td>\n",
       "      <td>3.0</td>\n",
       "      <td>1.534476e+09</td>\n",
       "      <td>0.057333</td>\n",
       "      <td>1.534476e+09</td>\n",
       "      <td>0.008761</td>\n",
       "    </tr>\n",
       "    <tr>\n",
       "      <th>4</th>\n",
       "      <td>4.0</td>\n",
       "      <td>1.534477e+09</td>\n",
       "      <td>0.999796</td>\n",
       "      <td>4.0</td>\n",
       "      <td>1.534477e+09</td>\n",
       "      <td>0.045874</td>\n",
       "      <td>1.534477e+09</td>\n",
       "      <td>0.011608</td>\n",
       "    </tr>\n",
       "  </tbody>\n",
       "</table>\n",
       "</div>"
      ],
      "text/plain": [
       "   index  Time Stamp LHC   LHC-SPS  index  Time Stamp BLM       BLM  \\\n",
       "0    0.0    1.534476e+09  0.999797    0.0    1.534476e+09  0.032946   \n",
       "1    1.0    1.534476e+09  0.999797    1.0    1.534476e+09  0.054595   \n",
       "2    2.0    1.534476e+09  0.999806    2.0    1.534476e+09  0.031869   \n",
       "3    3.0    1.534476e+09  0.999864    3.0    1.534476e+09  0.057333   \n",
       "4    4.0    1.534477e+09  0.999796    4.0    1.534477e+09  0.045874   \n",
       "\n",
       "   Time Stamp BPM   BPM MSE  \n",
       "0    1.534476e+09  0.000000  \n",
       "1    1.534476e+09  0.013231  \n",
       "2    1.534476e+09  0.005537  \n",
       "3    1.534476e+09  0.008761  \n",
       "4    1.534477e+09  0.011608  "
      ]
     },
     "execution_count": 18,
     "metadata": {},
     "output_type": "execute_result"
    }
   ],
   "source": [
    "Data = match_datasets(Intensities,'Time Stamp LHC',Data,'Time Stamp BPM', 14 ,20)\n",
    "Data.head()"
   ]
  },
  {
   "cell_type": "markdown",
   "metadata": {},
   "source": [
    "Drop Index:"
   ]
  },
  {
   "cell_type": "code",
   "execution_count": 19,
   "metadata": {},
   "outputs": [
    {
     "data": {
      "text/html": [
       "<div>\n",
       "<style scoped>\n",
       "    .dataframe tbody tr th:only-of-type {\n",
       "        vertical-align: middle;\n",
       "    }\n",
       "\n",
       "    .dataframe tbody tr th {\n",
       "        vertical-align: top;\n",
       "    }\n",
       "\n",
       "    .dataframe thead th {\n",
       "        text-align: right;\n",
       "    }\n",
       "</style>\n",
       "<table border=\"1\" class=\"dataframe\">\n",
       "  <thead>\n",
       "    <tr style=\"text-align: right;\">\n",
       "      <th></th>\n",
       "      <th>Time Stamp LHC</th>\n",
       "      <th>LHC-SPS</th>\n",
       "      <th>Time Stamp BLM</th>\n",
       "      <th>BLM</th>\n",
       "      <th>Time Stamp BPM</th>\n",
       "      <th>BPM MSE</th>\n",
       "    </tr>\n",
       "  </thead>\n",
       "  <tbody>\n",
       "    <tr>\n",
       "      <th>0</th>\n",
       "      <td>1.534476e+09</td>\n",
       "      <td>0.999797</td>\n",
       "      <td>1.534476e+09</td>\n",
       "      <td>0.032946</td>\n",
       "      <td>1.534476e+09</td>\n",
       "      <td>0.000000</td>\n",
       "    </tr>\n",
       "    <tr>\n",
       "      <th>1</th>\n",
       "      <td>1.534476e+09</td>\n",
       "      <td>0.999797</td>\n",
       "      <td>1.534476e+09</td>\n",
       "      <td>0.054595</td>\n",
       "      <td>1.534476e+09</td>\n",
       "      <td>0.013231</td>\n",
       "    </tr>\n",
       "    <tr>\n",
       "      <th>2</th>\n",
       "      <td>1.534476e+09</td>\n",
       "      <td>0.999806</td>\n",
       "      <td>1.534476e+09</td>\n",
       "      <td>0.031869</td>\n",
       "      <td>1.534476e+09</td>\n",
       "      <td>0.005537</td>\n",
       "    </tr>\n",
       "    <tr>\n",
       "      <th>3</th>\n",
       "      <td>1.534476e+09</td>\n",
       "      <td>0.999864</td>\n",
       "      <td>1.534476e+09</td>\n",
       "      <td>0.057333</td>\n",
       "      <td>1.534476e+09</td>\n",
       "      <td>0.008761</td>\n",
       "    </tr>\n",
       "    <tr>\n",
       "      <th>4</th>\n",
       "      <td>1.534477e+09</td>\n",
       "      <td>0.999796</td>\n",
       "      <td>1.534477e+09</td>\n",
       "      <td>0.045874</td>\n",
       "      <td>1.534477e+09</td>\n",
       "      <td>0.011608</td>\n",
       "    </tr>\n",
       "  </tbody>\n",
       "</table>\n",
       "</div>"
      ],
      "text/plain": [
       "   Time Stamp LHC   LHC-SPS  Time Stamp BLM       BLM  Time Stamp BPM  \\\n",
       "0    1.534476e+09  0.999797    1.534476e+09  0.032946    1.534476e+09   \n",
       "1    1.534476e+09  0.999797    1.534476e+09  0.054595    1.534476e+09   \n",
       "2    1.534476e+09  0.999806    1.534476e+09  0.031869    1.534476e+09   \n",
       "3    1.534476e+09  0.999864    1.534476e+09  0.057333    1.534476e+09   \n",
       "4    1.534477e+09  0.999796    1.534477e+09  0.045874    1.534477e+09   \n",
       "\n",
       "    BPM MSE  \n",
       "0  0.000000  \n",
       "1  0.013231  \n",
       "2  0.005537  \n",
       "3  0.008761  \n",
       "4  0.011608  "
      ]
     },
     "execution_count": 19,
     "metadata": {},
     "output_type": "execute_result"
    }
   ],
   "source": [
    "Data = Data.drop(['index'],axis=1)\n",
    "Data.head()"
   ]
  },
  {
   "cell_type": "markdown",
   "metadata": {},
   "source": [
    "Check Time Stamp Differences:"
   ]
  },
  {
   "cell_type": "code",
   "execution_count": 21,
   "metadata": {},
   "outputs": [
    {
     "data": {
      "text/plain": [
       "Text(0,0.5,'Time Stamp Diff (BLM)')"
      ]
     },
     "execution_count": 21,
     "metadata": {},
     "output_type": "execute_result"
    },
    {
     "data": {
      "image/png": "[encoded data removed]",
      "text/plain": [
       "<Figure size 432x288 with 1 Axes>"
      ]
     },
     "metadata": {
      "needs_background": "light"
     },
     "output_type": "display_data"
    }
   ],
   "source": [
    "plt.figure()\n",
    "plt.plot(Data.index.values,Data['Time Stamp LHC']-Data['Time Stamp BLM'],'x')\n",
    "plt.xlabel('Index')\n",
    "plt.ylabel('Time Stamp Diff (BLM)')"
   ]
  },
  {
   "cell_type": "code",
   "execution_count": 22,
   "metadata": {},
   "outputs": [
    {
     "data": {
      "text/plain": [
       "Text(0,0.5,'Time Stamp Diff (BLM)')"
      ]
     },
     "execution_count": 22,
     "metadata": {},
     "output_type": "execute_result"
    },
    {
     "data": {
      "image/png": "[encoded data removed]",
      "text/plain": [
       "<Figure size 432x288 with 1 Axes>"
      ]
     },
     "metadata": {
      "needs_background": "light"
     },
     "output_type": "display_data"
    }
   ],
   "source": [
    "plt.figure()\n",
    "plt.plot(Data.index.values,Data['Time Stamp LHC']-Data['Time Stamp BPM'],'x')\n",
    "plt.xlabel('Index')\n",
    "plt.ylabel('Time Stamp Diff (BLM)')"
   ]
  },
  {
   "cell_type": "code",
   "execution_count": 23,
   "metadata": {},
   "outputs": [
    {
     "data": {
      "text/plain": [
       "Text(0,0.5,'Time Stamp Diff (BLM)')"
      ]
     },
     "execution_count": 23,
     "metadata": {},
     "output_type": "execute_result"
    },
    {
     "data": {
      "image/png": "[encoded data removed]",
      "text/plain": [
       "<Figure size 432x288 with 1 Axes>"
      ]
     },
     "metadata": {
      "needs_background": "light"
     },
     "output_type": "display_data"
    }
   ],
   "source": [
    "plt.figure()\n",
    "plt.plot(Data.index.values,Data['Time Stamp BLM']-Data['Time Stamp BPM'],'x')\n",
    "plt.xlabel('Index')\n",
    "plt.ylabel('Time Stamp Diff (BLM)')"
   ]
  },
  {
   "cell_type": "markdown",
   "metadata": {},
   "source": [
    "## Run DBSCAN"
   ]
  },
  {
   "cell_type": "code",
   "execution_count": 24,
   "metadata": {},
   "outputs": [],
   "source": [
    "from sklearn.cluster import DBSCAN"
   ]
  },
  {
   "cell_type": "code",
   "execution_count": 48,
   "metadata": {},
   "outputs": [],
   "source": [
    "X = pd.DataFrame(data={'LHC-SPS':Data['LHC-SPS'],'BLM':Data['BLM'],'BPM MSE':Data['BPM MSE']})\n",
    "#n_jobs=-1 means use all processors\n",
    "#########################################\n",
    "#This seems to work well:\n",
    "clustering = DBSCAN(eps=0.3,min_samples=50,n_jobs=-1).fit(X)\n",
    "#########################################\n",
    "#Here another point is found to be an anomaly\n",
    "#clustering = DBSCAN(eps=0.2,min_samples=10,n_jobs=-1).fit(X)\n",
    "#########################################"
   ]
  },
  {
   "cell_type": "code",
   "execution_count": 49,
   "metadata": {},
   "outputs": [],
   "source": [
    "#clustering.labels_\n",
    "X['Predicted Value'] = clustering.labels_\n",
    "is_anomaly = X['Predicted Value']==-1\n",
    "Anomalies = X[is_anomaly]\n",
    "\n",
    "not_anomaly = X['Predicted Value']!=-1\n",
    "Inliers = X[not_anomaly]"
   ]
  },
  {
   "cell_type": "code",
   "execution_count": 50,
   "metadata": {},
   "outputs": [
    {
     "data": {
      "image/png": "[encoded data removed]",
      "text/plain": [
       "<Figure size 432x288 with 1 Axes>"
      ]
     },
     "metadata": {
      "needs_background": "light"
     },
     "output_type": "display_data"
    }
   ],
   "source": [
    "fig = plt.figure()\n",
    "ax = Axes3D(fig)\n",
    "ax.scatter(Anomalies['LHC-SPS'],Anomalies['BLM'],Anomalies['BPM MSE'],c='red',\n",
    "                edgecolor='k', s=20)\n",
    "ax.scatter(Inliers['LHC-SPS'],Inliers['BLM'],Inliers['BPM MSE'],c='white',\n",
    "                edgecolor='k', s=20)\n",
    "ax.set_xlabel('Change in Intensity (LHC-SPS) (W\\m^2)')\n",
    "ax.set_ylabel('TDI BLM Reading (Gy\\s)')\n",
    "ax.set_zlabel('BPM MSE')\n",
    "ax.set_title('Result of DBSCAN')\n",
    "plt.show()"
   ]
  },
  {
   "cell_type": "markdown",
   "metadata": {},
   "source": [
    "## Run LOF"
   ]
  },
  {
   "cell_type": "code",
   "execution_count": 51,
   "metadata": {},
   "outputs": [],
   "source": [
    "from sklearn.neighbors import LocalOutlierFactor"
   ]
  },
  {
   "cell_type": "code",
   "execution_count": 68,
   "metadata": {},
   "outputs": [
    {
     "name": "stderr",
     "output_type": "stream",
     "text": [
      "/home/marc/anaconda3/lib/python3.7/site-packages/scipy/stats/stats.py:1713: FutureWarning: Using a non-tuple sequence for multidimensional indexing is deprecated; use `arr[tuple(seq)]` instead of `arr[seq]`. In the future this will be interpreted as an array index, `arr[np.array(seq)]`, which will result either in an error or a different result.\n",
      "  return np.add.reduce(sorted[indexer] * weights, axis=axis) / sumval\n"
     ]
    }
   ],
   "source": [
    "X = pd.DataFrame(data={'LHC-SPS':Data['LHC-SPS'],'BLM':Data['BLM'],'BPM MSE':Data['BPM MSE']})\n",
    "lof = LocalOutlierFactor(n_neighbors=20,contamination=0.01, n_jobs=-1).fit_predict(X)"
   ]
  },
  {
   "cell_type": "code",
   "execution_count": 69,
   "metadata": {},
   "outputs": [],
   "source": [
    "X['Predicted Value'] = lof\n",
    "is_anomaly = X['Predicted Value']==-1\n",
    "Anomalies = X[is_anomaly]\n",
    "\n",
    "not_anomaly = X['Predicted Value']!=-1\n",
    "Inliers = X[not_anomaly]"
   ]
  },
  {
   "cell_type": "code",
   "execution_count": 70,
   "metadata": {},
   "outputs": [
    {
     "data": {
      "image/png": "[encoded data removed]",
      "text/plain": [
       "<Figure size 432x288 with 1 Axes>"
      ]
     },
     "metadata": {
      "needs_background": "light"
     },
     "output_type": "display_data"
    }
   ],
   "source": [
    "fig = plt.figure()\n",
    "ax = Axes3D(fig)\n",
    "ax.scatter(Anomalies['LHC-SPS'],Anomalies['BLM'],Anomalies['BPM MSE'],c='red',\n",
    "                edgecolor='k', s=20)\n",
    "ax.scatter(Inliers['LHC-SPS'],Inliers['BLM'],Inliers['BPM MSE'],c='white',\n",
    "                edgecolor='k', s=20)\n",
    "ax.set_xlabel('Change in Intensity (LHC-SPS) (W\\m^2)')\n",
    "ax.set_ylabel('TDI BLM Reading (Gy\\s)')\n",
    "ax.set_zlabel('BPM MSE')\n",
    "ax.set_title('Result of LOF')\n",
    "plt.show()"
   ]
  }
 ],
 "metadata": {
  "kernelspec": {
   "display_name": "Python 3",
   "language": "python",
   "name": "python3"
  },
  "language_info": {
   "codemirror_mode": {
    "name": "ipython",
    "version": 3
   },
   "file_extension": ".py",
   "mimetype": "text/x-python",
   "name": "python",
   "nbconvert_exporter": "python",
   "pygments_lexer": "ipython3",
   "version": "3.7.1"
  }
 },
 "nbformat": 4,
 "nbformat_minor": 2
}
