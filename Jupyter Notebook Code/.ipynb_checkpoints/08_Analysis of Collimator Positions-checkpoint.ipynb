{
 "cells": [
  {
   "cell_type": "markdown",
   "metadata": {},
   "source": [
    "The Collimator Position Data was dropped from the study as we felt it didn't give much information on the quality of the beam injjection"
   ]
  },
  {
   "cell_type": "code",
   "execution_count": 1,
   "metadata": {},
   "outputs": [
    {
     "name": "stdout",
     "output_type": "stream",
     "text": [
      "Once deleted, variables cannot be recovered. Proceed (y/[n])? y\n"
     ]
    }
   ],
   "source": [
    "%reset\n",
    "\n",
    "import pandas as pd\n",
    "import numpy as np\n",
    "import matplotlib.pyplot as plt\n",
    "from mpl_toolkits.mplot3d import Axes3D #For 3D Plots\n",
    "\n",
    "#Required by Jupyter for inlining images\n",
    "%matplotlib inline"
   ]
  },
  {
   "cell_type": "code",
   "execution_count": 2,
   "metadata": {},
   "outputs": [
    {
     "data": {
      "text/html": [
       "<div>\n",
       "<style scoped>\n",
       "    .dataframe tbody tr th:only-of-type {\n",
       "        vertical-align: middle;\n",
       "    }\n",
       "\n",
       "    .dataframe tbody tr th {\n",
       "        vertical-align: top;\n",
       "    }\n",
       "\n",
       "    .dataframe thead th {\n",
       "        text-align: right;\n",
       "    }\n",
       "</style>\n",
       "<table border=\"1\" class=\"dataframe\">\n",
       "  <thead>\n",
       "    <tr style=\"text-align: right;\">\n",
       "      <th></th>\n",
       "      <th>0</th>\n",
       "      <th>1</th>\n",
       "      <th>2</th>\n",
       "      <th>3</th>\n",
       "      <th>4</th>\n",
       "      <th>5</th>\n",
       "      <th>6</th>\n",
       "      <th>7</th>\n",
       "      <th>8</th>\n",
       "      <th>9</th>\n",
       "      <th>10</th>\n",
       "      <th>11</th>\n",
       "      <th>12</th>\n",
       "      <th>13</th>\n",
       "      <th>14</th>\n",
       "    </tr>\n",
       "  </thead>\n",
       "  <tbody>\n",
       "    <tr>\n",
       "      <th>0</th>\n",
       "      <td>1534472363</td>\n",
       "      <td>2.745</td>\n",
       "      <td>-5.325</td>\n",
       "      <td>1.205</td>\n",
       "      <td>-4.265</td>\n",
       "      <td>3.15</td>\n",
       "      <td>-2.69</td>\n",
       "      <td>10.0</td>\n",
       "      <td>-10.0</td>\n",
       "      <td>3.05</td>\n",
       "      <td>-0.91</td>\n",
       "      <td>2.295</td>\n",
       "      <td>-4.315</td>\n",
       "      <td>7.48</td>\n",
       "      <td>-5.72</td>\n",
       "    </tr>\n",
       "    <tr>\n",
       "      <th>1</th>\n",
       "      <td>1534472363</td>\n",
       "      <td>2.745</td>\n",
       "      <td>-5.325</td>\n",
       "      <td>1.205</td>\n",
       "      <td>-4.265</td>\n",
       "      <td>3.15</td>\n",
       "      <td>-2.69</td>\n",
       "      <td>10.0</td>\n",
       "      <td>-10.0</td>\n",
       "      <td>3.05</td>\n",
       "      <td>-0.91</td>\n",
       "      <td>2.295</td>\n",
       "      <td>-4.315</td>\n",
       "      <td>7.48</td>\n",
       "      <td>-5.72</td>\n",
       "    </tr>\n",
       "    <tr>\n",
       "      <th>2</th>\n",
       "      <td>1534475963</td>\n",
       "      <td>2.745</td>\n",
       "      <td>-5.325</td>\n",
       "      <td>1.205</td>\n",
       "      <td>-4.265</td>\n",
       "      <td>3.15</td>\n",
       "      <td>-2.69</td>\n",
       "      <td>10.0</td>\n",
       "      <td>-10.0</td>\n",
       "      <td>3.05</td>\n",
       "      <td>-0.91</td>\n",
       "      <td>2.295</td>\n",
       "      <td>-4.315</td>\n",
       "      <td>7.48</td>\n",
       "      <td>-5.72</td>\n",
       "    </tr>\n",
       "    <tr>\n",
       "      <th>3</th>\n",
       "      <td>1534475963</td>\n",
       "      <td>2.745</td>\n",
       "      <td>-5.325</td>\n",
       "      <td>1.205</td>\n",
       "      <td>-4.265</td>\n",
       "      <td>3.15</td>\n",
       "      <td>-2.69</td>\n",
       "      <td>10.0</td>\n",
       "      <td>-10.0</td>\n",
       "      <td>3.05</td>\n",
       "      <td>-0.91</td>\n",
       "      <td>2.295</td>\n",
       "      <td>-4.315</td>\n",
       "      <td>7.48</td>\n",
       "      <td>-5.72</td>\n",
       "    </tr>\n",
       "    <tr>\n",
       "      <th>4</th>\n",
       "      <td>1534475963</td>\n",
       "      <td>2.745</td>\n",
       "      <td>-5.325</td>\n",
       "      <td>1.205</td>\n",
       "      <td>-4.265</td>\n",
       "      <td>3.15</td>\n",
       "      <td>-2.69</td>\n",
       "      <td>10.0</td>\n",
       "      <td>-10.0</td>\n",
       "      <td>3.05</td>\n",
       "      <td>-0.91</td>\n",
       "      <td>2.295</td>\n",
       "      <td>-4.315</td>\n",
       "      <td>7.48</td>\n",
       "      <td>-5.72</td>\n",
       "    </tr>\n",
       "  </tbody>\n",
       "</table>\n",
       "</div>"
      ],
      "text/plain": [
       "           0      1      2      3      4     5     6     7     8     9     10  \\\n",
       "0  1534472363  2.745 -5.325  1.205 -4.265  3.15 -2.69  10.0 -10.0  3.05 -0.91   \n",
       "1  1534472363  2.745 -5.325  1.205 -4.265  3.15 -2.69  10.0 -10.0  3.05 -0.91   \n",
       "2  1534475963  2.745 -5.325  1.205 -4.265  3.15 -2.69  10.0 -10.0  3.05 -0.91   \n",
       "3  1534475963  2.745 -5.325  1.205 -4.265  3.15 -2.69  10.0 -10.0  3.05 -0.91   \n",
       "4  1534475963  2.745 -5.325  1.205 -4.265  3.15 -2.69  10.0 -10.0  3.05 -0.91   \n",
       "\n",
       "      11     12    13    14  \n",
       "0  2.295 -4.315  7.48 -5.72  \n",
       "1  2.295 -4.315  7.48 -5.72  \n",
       "2  2.295 -4.315  7.48 -5.72  \n",
       "3  2.295 -4.315  7.48 -5.72  \n",
       "4  2.295 -4.315  7.48 -5.72  "
      ]
     },
     "execution_count": 2,
     "metadata": {},
     "output_type": "execute_result"
    }
   ],
   "source": [
    "data = pd.read_csv('../Data/TL_coll_inj_B1_formatted.txt',sep=' ', header=None)\n",
    "data.head()"
   ]
  },
  {
   "cell_type": "code",
   "execution_count": 5,
   "metadata": {},
   "outputs": [
    {
     "data": {
      "text/plain": [
       "Text(0.5,1,'MSE of Collimator Positions in the TL')"
      ]
     },
     "execution_count": 5,
     "metadata": {},
     "output_type": "execute_result"
    },
    {
     "data": {
      "image/png": "[encoded data removed]",
      "text/plain": [
       "<Figure size 432x288 with 1 Axes>"
      ]
     },
     "metadata": {
      "needs_background": "light"
     },
     "output_type": "display_data"
    }
   ],
   "source": [
    "fig = plt.figure()\n",
    "plt.plot(data[0][:50],data[1][:50],'x')\n",
    "plt.xlabel('Time Stamp')\n",
    "plt.ylabel('MSE')\n",
    "plt.title('MSE of Collimator Positions in the TL')"
   ]
  },
  {
   "cell_type": "code",
   "execution_count": 4,
   "metadata": {},
   "outputs": [
    {
     "name": "stdout",
     "output_type": "stream",
     "text": [
      "<class 'pandas.core.frame.DataFrame'>\n",
      "RangeIndex: 1898 entries, 0 to 1897\n",
      "Data columns (total 15 columns):\n",
      "0     1898 non-null int64\n",
      "1     1898 non-null float64\n",
      "2     1898 non-null float64\n",
      "3     1898 non-null float64\n",
      "4     1898 non-null float64\n",
      "5     1898 non-null float64\n",
      "6     1898 non-null float64\n",
      "7     1898 non-null float64\n",
      "8     1898 non-null float64\n",
      "9     1898 non-null float64\n",
      "10    1898 non-null float64\n",
      "11    1898 non-null float64\n",
      "12    1898 non-null float64\n",
      "13    1898 non-null float64\n",
      "14    1898 non-null float64\n",
      "dtypes: float64(14), int64(1)\n",
      "memory usage: 222.5 KB\n"
     ]
    }
   ],
   "source": [
    "data.info()"
   ]
  },
  {
   "cell_type": "markdown",
   "metadata": {},
   "source": [
    "If there's a change in the positions then the MSE > 0"
   ]
  },
  {
   "cell_type": "code",
   "execution_count": 6,
   "metadata": {},
   "outputs": [],
   "source": [
    "def get_mse(row):\n",
    "    regression_line = data.iloc[0]\n",
    "    mse = []\n",
    "    for i in range(1,len(row)):\n",
    "        mse.append((regression_line[i]-row[i])**2)\n",
    "    return np.mean(mse)"
   ]
  },
  {
   "cell_type": "code",
   "execution_count": 7,
   "metadata": {},
   "outputs": [],
   "source": [
    "data['MSE'] = data.apply(lambda row: get_mse(row), axis=1)"
   ]
  },
  {
   "cell_type": "code",
   "execution_count": 8,
   "metadata": {},
   "outputs": [],
   "source": [
    "data = data.rename(columns={0:'Time Stamp'})"
   ]
  },
  {
   "cell_type": "code",
   "execution_count": 10,
   "metadata": {},
   "outputs": [
    {
     "data": {
      "text/plain": [
       "Text(0.5,1,'MSE of Collimator Positions in the TL')"
      ]
     },
     "execution_count": 10,
     "metadata": {},
     "output_type": "execute_result"
    },
    {
     "data": {
      "image/png": "[encoded data removed]",
      "text/plain": [
       "<Figure size 432x288 with 1 Axes>"
      ]
     },
     "metadata": {
      "needs_background": "light"
     },
     "output_type": "display_data"
    }
   ],
   "source": [
    "fig = plt.figure()\n",
    "plt.plot(data['Time Stamp'],data['MSE'],'x')\n",
    "plt.xlabel('Time Stamp')\n",
    "plt.ylabel('MSE')\n",
    "plt.title('MSE of Collimator Positions in the TL')"
   ]
  },
  {
   "cell_type": "markdown",
   "metadata": {},
   "source": [
    "As can be seen here, The collimators seem to move for certain injections, then they go back to place, is this due to anomalies, or due to testing?"
   ]
  }
 ],
 "metadata": {
  "kernelspec": {
   "display_name": "Python 3",
   "language": "python",
   "name": "python3"
  },
  "language_info": {
   "codemirror_mode": {
    "name": "ipython",
    "version": 3
   },
   "file_extension": ".py",
   "mimetype": "text/x-python",
   "name": "python",
   "nbconvert_exporter": "python",
   "pygments_lexer": "ipython3",
   "version": "3.7.1"
  }
 },
 "nbformat": 4,
 "nbformat_minor": 2
}
