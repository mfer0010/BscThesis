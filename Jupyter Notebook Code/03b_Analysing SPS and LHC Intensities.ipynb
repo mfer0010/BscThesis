{
 "cells": [
  {
   "cell_type": "code",
   "execution_count": 5,
   "metadata": {},
   "outputs": [
    {
     "name": "stdout",
     "output_type": "stream",
     "text": [
      "Once deleted, variables cannot be recovered. Proceed (y/[n])? y\n"
     ]
    }
   ],
   "source": [
    "%reset"
   ]
  },
  {
   "cell_type": "code",
   "execution_count": 6,
   "metadata": {},
   "outputs": [],
   "source": [
    "# Ensure that the LHC and SPS rows correspond in terms of timestamps and intensity\n",
    "import numpy as np\n",
    "import pandas as pd\n",
    "import matplotlib.pyplot as plt\n",
    "\n",
    "#Required by Jupyter for inlining images\n",
    "%matplotlib inline"
   ]
  },
  {
   "cell_type": "code",
   "execution_count": 7,
   "metadata": {},
   "outputs": [
    {
     "name": "stdout",
     "output_type": "stream",
     "text": [
      "18977\n",
      "1624\n"
     ]
    }
   ],
   "source": [
    "lhc_b1 = np.loadtxt(\"../Data/LHC_intensity_B1.txt\")\n",
    "lhc_b2 = np.loadtxt(\"../Data/LHC_intensity_B2.txt\")\n",
    "\n",
    "sps_b1 = np.loadtxt(\"../Data/SPS_intensity_B1.txt\")\n",
    "sps_b2 = np.loadtxt(\"../Data/SPS_intensity_B2.txt\")\n",
    "\n",
    "print(len(lhc_b1[:,0]))\n",
    "print(len(sps_b1[:,0]))"
   ]
  },
  {
   "cell_type": "code",
   "execution_count": 8,
   "metadata": {},
   "outputs": [
    {
     "data": {
      "text/html": [
       "<div>\n",
       "<style scoped>\n",
       "    .dataframe tbody tr th:only-of-type {\n",
       "        vertical-align: middle;\n",
       "    }\n",
       "\n",
       "    .dataframe tbody tr th {\n",
       "        vertical-align: top;\n",
       "    }\n",
       "\n",
       "    .dataframe thead th {\n",
       "        text-align: right;\n",
       "    }\n",
       "</style>\n",
       "<table border=\"1\" class=\"dataframe\">\n",
       "  <thead>\n",
       "    <tr style=\"text-align: right;\">\n",
       "      <th></th>\n",
       "      <th>Time Stamp</th>\n",
       "      <th>Time Differences</th>\n",
       "      <th>SPS Reading</th>\n",
       "      <th>LHC Reading</th>\n",
       "    </tr>\n",
       "  </thead>\n",
       "  <tbody>\n",
       "    <tr>\n",
       "      <th>0</th>\n",
       "      <td>1.534476e+09</td>\n",
       "      <td>17.874</td>\n",
       "      <td>1.282752e+12</td>\n",
       "      <td>1.281810e+12</td>\n",
       "    </tr>\n",
       "    <tr>\n",
       "      <th>1</th>\n",
       "      <td>1.534476e+09</td>\n",
       "      <td>18.281</td>\n",
       "      <td>1.035162e+13</td>\n",
       "      <td>1.035063e+13</td>\n",
       "    </tr>\n",
       "    <tr>\n",
       "      <th>2</th>\n",
       "      <td>1.534476e+09</td>\n",
       "      <td>17.501</td>\n",
       "      <td>1.292184e+12</td>\n",
       "      <td>1.293680e+12</td>\n",
       "    </tr>\n",
       "    <tr>\n",
       "      <th>3</th>\n",
       "      <td>1.534476e+09</td>\n",
       "      <td>17.512</td>\n",
       "      <td>1.544490e+13</td>\n",
       "      <td>1.546251e+13</td>\n",
       "    </tr>\n",
       "    <tr>\n",
       "      <th>4</th>\n",
       "      <td>1.534477e+09</td>\n",
       "      <td>18.326</td>\n",
       "      <td>1.273320e+12</td>\n",
       "      <td>1.272050e+12</td>\n",
       "    </tr>\n",
       "  </tbody>\n",
       "</table>\n",
       "</div>"
      ],
      "text/plain": [
       "     Time Stamp  Time Differences   SPS Reading   LHC Reading\n",
       "0  1.534476e+09            17.874  1.282752e+12  1.281810e+12\n",
       "1  1.534476e+09            18.281  1.035162e+13  1.035063e+13\n",
       "2  1.534476e+09            17.501  1.292184e+12  1.293680e+12\n",
       "3  1.534476e+09            17.512  1.544490e+13  1.546251e+13\n",
       "4  1.534477e+09            18.326  1.273320e+12  1.272050e+12"
      ]
     },
     "execution_count": 8,
     "metadata": {},
     "output_type": "execute_result"
    }
   ],
   "source": [
    "# Calculate difference between every 10th LHC timestamp and SPS\n",
    "count_sps = 0\n",
    "time_stamp = []\n",
    "time_differences = []\n",
    "sps_reading = []\n",
    "lhc_reading = []\n",
    "\n",
    "for i in range(5, len(lhc_b1[:,0]), 10):\n",
    "    #calculate time difference\n",
    "\tdiff = lhc_b1[i,0] - sps_b1[count_sps,0]\n",
    "    #if difference is not between 14 and 20, then the spike was not for the LHC\n",
    "    #or an error in the LS, so skip it\n",
    "\tif diff < 14 or diff > 20:\n",
    "\t\tcontinue\n",
    "    #append readings to list\n",
    "\ttime_stamp.append(lhc_b1[i,0])\n",
    "\ttime_differences.append(diff)\n",
    "\tsps_reading.append(sps_b1[count_sps,1])\n",
    "\tlhc_reading.append(lhc_b1[i+4,1]-lhc_b1[i-4,1])\n",
    "    #increment the sps pointer\n",
    "\tcount_sps += 1\n",
    "\n",
    "#build the dataframe:\n",
    "data = {'Time Stamp':time_stamp,'Time Differences':time_differences,'SPS Reading':sps_reading,'LHC Reading':lhc_reading}\n",
    "Beam1_df = pd.DataFrame(data=data)\n",
    "Beam1_df.head()"
   ]
  },
  {
   "cell_type": "code",
   "execution_count": 11,
   "metadata": {},
   "outputs": [
    {
     "data": {
      "image/png": "[encoded data removed]",
      "text/plain": [
       "<Figure size 432x288 with 1 Axes>"
      ]
     },
     "metadata": {
      "needs_background": "light"
     },
     "output_type": "display_data"
    }
   ],
   "source": [
    "cond = Beam1_df['LHC Reading']>-1e14\n",
    "\n",
    "plt.figure()\n",
    "Beam1_df[cond]['LHC Reading'].hist()\n",
    "plt.title('Histogram of Change in LHC Intensity')\n",
    "plt.xlabel('Change in LHC Intensity (Number of Protons)')\n",
    "plt.ylabel('Count')\n",
    "plt.savefig('../Dissertation/images/Histogram_of_Change_in_LHC_Intensity')"
   ]
  },
  {
   "cell_type": "code",
   "execution_count": 5,
   "metadata": {},
   "outputs": [
    {
     "data": {
      "image/png": "[encoded data removed]",
      "text/plain": [
       "<Figure size 432x288 with 1 Axes>"
      ]
     },
     "metadata": {
      "needs_background": "light"
     },
     "output_type": "display_data"
    }
   ],
   "source": [
    "#plot the correlations\n",
    "plt.plot(Beam1_df['SPS Reading'],Beam1_df['LHC Reading'],'x')\n",
    "plt.xlabel('Intensity at point of extraction from SPS (W/m^2)')\n",
    "plt.ylabel('Intensity at point of injection to the LHC (W/m^2)')\n",
    "plt.title('Comparing Beam Intensities')\n",
    "#Note I took of the negative LHC Readings, what do these mean??\n",
    "#plt.xlim(0,1e11)#max(Beam1_df['LHC Reading']))\n",
    "#plt.ylim(0,1e11)\n",
    "plt.show()"
   ]
  },
  {
   "cell_type": "code",
   "execution_count": 6,
   "metadata": {},
   "outputs": [
    {
     "data": {
      "text/html": [
       "<div>\n",
       "<style scoped>\n",
       "    .dataframe tbody tr th:only-of-type {\n",
       "        vertical-align: middle;\n",
       "    }\n",
       "\n",
       "    .dataframe tbody tr th {\n",
       "        vertical-align: top;\n",
       "    }\n",
       "\n",
       "    .dataframe thead th {\n",
       "        text-align: right;\n",
       "    }\n",
       "</style>\n",
       "<table border=\"1\" class=\"dataframe\">\n",
       "  <thead>\n",
       "    <tr style=\"text-align: right;\">\n",
       "      <th></th>\n",
       "      <th>Time Stamp</th>\n",
       "      <th>Time Differences</th>\n",
       "      <th>SPS Reading</th>\n",
       "      <th>LHC Reading</th>\n",
       "    </tr>\n",
       "  </thead>\n",
       "  <tbody>\n",
       "    <tr>\n",
       "      <th>0</th>\n",
       "      <td>1.534476e+09</td>\n",
       "      <td>17.677</td>\n",
       "      <td>1.282752e+12</td>\n",
       "      <td>1.283170e+12</td>\n",
       "    </tr>\n",
       "    <tr>\n",
       "      <th>1</th>\n",
       "      <td>1.534476e+09</td>\n",
       "      <td>18.084</td>\n",
       "      <td>1.036105e+13</td>\n",
       "      <td>1.034522e+13</td>\n",
       "    </tr>\n",
       "    <tr>\n",
       "      <th>2</th>\n",
       "      <td>1.534476e+09</td>\n",
       "      <td>18.106</td>\n",
       "      <td>1.263888e+12</td>\n",
       "      <td>1.282510e+12</td>\n",
       "    </tr>\n",
       "    <tr>\n",
       "      <th>3</th>\n",
       "      <td>1.534476e+09</td>\n",
       "      <td>18.315</td>\n",
       "      <td>1.263888e+12</td>\n",
       "      <td>1.267990e+12</td>\n",
       "    </tr>\n",
       "    <tr>\n",
       "      <th>4</th>\n",
       "      <td>1.534477e+09</td>\n",
       "      <td>17.919</td>\n",
       "      <td>1.230876e+12</td>\n",
       "      <td>1.240670e+12</td>\n",
       "    </tr>\n",
       "  </tbody>\n",
       "</table>\n",
       "</div>"
      ],
      "text/plain": [
       "     Time Stamp  Time Differences   SPS Reading   LHC Reading\n",
       "0  1.534476e+09            17.677  1.282752e+12  1.283170e+12\n",
       "1  1.534476e+09            18.084  1.036105e+13  1.034522e+13\n",
       "2  1.534476e+09            18.106  1.263888e+12  1.282510e+12\n",
       "3  1.534476e+09            18.315  1.263888e+12  1.267990e+12\n",
       "4  1.534477e+09            17.919  1.230876e+12  1.240670e+12"
      ]
     },
     "execution_count": 6,
     "metadata": {},
     "output_type": "execute_result"
    }
   ],
   "source": [
    "#Similar to above but for beam 2\n",
    "count_sps = 0\n",
    "time_stamp = []\n",
    "time_differences = []\n",
    "sps_reading = []\n",
    "lhc_reading = []\n",
    "\n",
    "for i in range(5, len(lhc_b2[:,0]), 10):\n",
    "    #calculate time difference\n",
    "\tdiff = lhc_b2[i,0] - sps_b2[count_sps,0]\n",
    "    #if difference is not between 14 and 20, then the spike was not for the LHC\n",
    "    #or an error in the LS, so skip it    \n",
    "\tif diff < 14 or diff > 20:\n",
    "\t\tcontinue\n",
    "    #append readings to list\n",
    "\ttime_stamp.append(lhc_b2[i,0])\n",
    "\ttime_differences.append(diff)\n",
    "\tsps_reading.append(sps_b2[count_sps,1])\n",
    "\tlhc_reading.append(lhc_b2[i+4,1]-lhc_b2[i-4,1])\n",
    "    #incerement the sps pointer\n",
    "\tcount_sps += 1\n",
    "\n",
    "#build the dataframe:\n",
    "data = {'Time Stamp': time_stamp,'Time Differences':time_differences,'SPS Reading':sps_reading,'LHC Reading':lhc_reading}\n",
    "Beam2_df = pd.DataFrame(data=data)\n",
    "Beam2_df.head()"
   ]
  },
  {
   "cell_type": "code",
   "execution_count": 21,
   "metadata": {},
   "outputs": [
    {
     "data": {
      "image/png": "[encoded data removed]",
      "text/plain": [
       "<Figure size 432x288 with 1 Axes>"
      ]
     },
     "metadata": {
      "needs_background": "light"
     },
     "output_type": "display_data"
    }
   ],
   "source": [
    "#plot the correlations\n",
    "plt.plot(Beam2_df['LHC Reading'],Beam2_df['SPS Reading'],'x')\n",
    "#How can we have an LHC reading with no SPS reading??\n",
    "#plt.xlim(0,max(Beam2_df['LHC Reading']))\n",
    "plt.show()"
   ]
  },
  {
   "cell_type": "code",
   "execution_count": 7,
   "metadata": {},
   "outputs": [],
   "source": [
    "#save the dataframes\n",
    "Beam1_df.to_pickle('../Data/Beam1_SPSandLHC.pkl')\n",
    "Beam2_df.to_pickle('../Data/Beam2_SPSandLHC.pkl')"
   ]
  }
 ],
 "metadata": {
  "kernelspec": {
   "display_name": "Python 3",
   "language": "python",
   "name": "python3"
  },
  "language_info": {
   "codemirror_mode": {
    "name": "ipython",
    "version": 3
   },
   "file_extension": ".py",
   "mimetype": "text/x-python",
   "name": "python",
   "nbconvert_exporter": "python",
   "pygments_lexer": "ipython3",
   "version": "3.7.1"
  }
 },
 "nbformat": 4,
 "nbformat_minor": 2
}
