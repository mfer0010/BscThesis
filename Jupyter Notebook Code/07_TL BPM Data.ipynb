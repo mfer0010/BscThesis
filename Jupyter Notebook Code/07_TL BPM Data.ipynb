{
 "cells": [
  {
   "cell_type": "code",
   "execution_count": 7,
   "metadata": {},
   "outputs": [
    {
     "name": "stdout",
     "output_type": "stream",
     "text": [
      "Once deleted, variables cannot be recovered. Proceed (y/[n])? y\n"
     ]
    }
   ],
   "source": [
    "%reset\n",
    "\n",
    "import pandas as pd\n",
    "import numpy as np\n",
    "import matplotlib.pyplot as plt\n",
    "from mpl_toolkits.mplot3d import Axes3D #For 3D Plots\n",
    "\n",
    "#Required by Jupyter for inlining images\n",
    "%matplotlib inline"
   ]
  },
  {
   "cell_type": "code",
   "execution_count": 8,
   "metadata": {},
   "outputs": [
    {
     "data": {
      "text/html": [
       "<div>\n",
       "<style scoped>\n",
       "    .dataframe tbody tr th:only-of-type {\n",
       "        vertical-align: middle;\n",
       "    }\n",
       "\n",
       "    .dataframe tbody tr th {\n",
       "        vertical-align: top;\n",
       "    }\n",
       "\n",
       "    .dataframe thead th {\n",
       "        text-align: right;\n",
       "    }\n",
       "</style>\n",
       "<table border=\"1\" class=\"dataframe\">\n",
       "  <thead>\n",
       "    <tr style=\"text-align: right;\">\n",
       "      <th></th>\n",
       "      <th>0</th>\n",
       "      <th>1</th>\n",
       "      <th>2</th>\n",
       "      <th>3</th>\n",
       "      <th>4</th>\n",
       "      <th>5</th>\n",
       "      <th>6</th>\n",
       "      <th>7</th>\n",
       "      <th>8</th>\n",
       "      <th>9</th>\n",
       "      <th>10</th>\n",
       "      <th>11</th>\n",
       "      <th>12</th>\n",
       "      <th>13</th>\n",
       "      <th>14</th>\n",
       "      <th>15</th>\n",
       "      <th>16</th>\n",
       "      <th>17</th>\n",
       "      <th>18</th>\n",
       "    </tr>\n",
       "  </thead>\n",
       "  <tbody>\n",
       "    <tr>\n",
       "      <th>0</th>\n",
       "      <td>1534475788</td>\n",
       "      <td>-0.114</td>\n",
       "      <td>-0.035</td>\n",
       "      <td>-1.063</td>\n",
       "      <td>-0.024</td>\n",
       "      <td>-1.353</td>\n",
       "      <td>-1.518</td>\n",
       "      <td>-1.321</td>\n",
       "      <td>-1.025</td>\n",
       "      <td>0.254</td>\n",
       "      <td>-0.879</td>\n",
       "      <td>0.341</td>\n",
       "      <td>0.049</td>\n",
       "      <td>-1.138</td>\n",
       "      <td>-1.413</td>\n",
       "      <td>0.088</td>\n",
       "      <td>-1.494</td>\n",
       "      <td>-0.411</td>\n",
       "      <td>-0.820</td>\n",
       "    </tr>\n",
       "    <tr>\n",
       "      <th>1</th>\n",
       "      <td>1534475900</td>\n",
       "      <td>-0.062</td>\n",
       "      <td>-0.134</td>\n",
       "      <td>-0.786</td>\n",
       "      <td>-0.088</td>\n",
       "      <td>-1.211</td>\n",
       "      <td>-1.638</td>\n",
       "      <td>-1.044</td>\n",
       "      <td>-0.986</td>\n",
       "      <td>0.294</td>\n",
       "      <td>-0.837</td>\n",
       "      <td>0.301</td>\n",
       "      <td>0.101</td>\n",
       "      <td>-1.127</td>\n",
       "      <td>-1.339</td>\n",
       "      <td>0.204</td>\n",
       "      <td>-1.436</td>\n",
       "      <td>-0.358</td>\n",
       "      <td>-0.765</td>\n",
       "    </tr>\n",
       "    <tr>\n",
       "      <th>2</th>\n",
       "      <td>1534476235</td>\n",
       "      <td>-0.146</td>\n",
       "      <td>0.082</td>\n",
       "      <td>-1.066</td>\n",
       "      <td>0.090</td>\n",
       "      <td>-1.405</td>\n",
       "      <td>-1.392</td>\n",
       "      <td>-1.333</td>\n",
       "      <td>-0.891</td>\n",
       "      <td>0.286</td>\n",
       "      <td>-0.774</td>\n",
       "      <td>0.346</td>\n",
       "      <td>-0.035</td>\n",
       "      <td>-1.098</td>\n",
       "      <td>-1.444</td>\n",
       "      <td>0.073</td>\n",
       "      <td>-1.414</td>\n",
       "      <td>-0.433</td>\n",
       "      <td>-0.730</td>\n",
       "    </tr>\n",
       "    <tr>\n",
       "      <th>3</th>\n",
       "      <td>1534476421</td>\n",
       "      <td>-0.104</td>\n",
       "      <td>-0.037</td>\n",
       "      <td>-0.872</td>\n",
       "      <td>-0.020</td>\n",
       "      <td>-1.259</td>\n",
       "      <td>-1.500</td>\n",
       "      <td>-1.106</td>\n",
       "      <td>-0.912</td>\n",
       "      <td>0.269</td>\n",
       "      <td>-0.762</td>\n",
       "      <td>0.311</td>\n",
       "      <td>0.023</td>\n",
       "      <td>-1.143</td>\n",
       "      <td>-1.347</td>\n",
       "      <td>0.132</td>\n",
       "      <td>-1.396</td>\n",
       "      <td>-0.379</td>\n",
       "      <td>-0.668</td>\n",
       "    </tr>\n",
       "    <tr>\n",
       "      <th>4</th>\n",
       "      <td>1534476644</td>\n",
       "      <td>-0.014</td>\n",
       "      <td>-0.008</td>\n",
       "      <td>-0.859</td>\n",
       "      <td>0.053</td>\n",
       "      <td>-1.343</td>\n",
       "      <td>-1.365</td>\n",
       "      <td>-1.211</td>\n",
       "      <td>-0.913</td>\n",
       "      <td>0.224</td>\n",
       "      <td>-0.740</td>\n",
       "      <td>0.250</td>\n",
       "      <td>0.025</td>\n",
       "      <td>-0.971</td>\n",
       "      <td>-1.447</td>\n",
       "      <td>0.268</td>\n",
       "      <td>-1.489</td>\n",
       "      <td>-0.406</td>\n",
       "      <td>-0.696</td>\n",
       "    </tr>\n",
       "  </tbody>\n",
       "</table>\n",
       "</div>"
      ],
      "text/plain": [
       "           0      1      2      3      4      5      6      7      8      9   \\\n",
       "0  1534475788 -0.114 -0.035 -1.063 -0.024 -1.353 -1.518 -1.321 -1.025  0.254   \n",
       "1  1534475900 -0.062 -0.134 -0.786 -0.088 -1.211 -1.638 -1.044 -0.986  0.294   \n",
       "2  1534476235 -0.146  0.082 -1.066  0.090 -1.405 -1.392 -1.333 -0.891  0.286   \n",
       "3  1534476421 -0.104 -0.037 -0.872 -0.020 -1.259 -1.500 -1.106 -0.912  0.269   \n",
       "4  1534476644 -0.014 -0.008 -0.859  0.053 -1.343 -1.365 -1.211 -0.913  0.224   \n",
       "\n",
       "      10     11     12     13     14     15     16     17     18  \n",
       "0 -0.879  0.341  0.049 -1.138 -1.413  0.088 -1.494 -0.411 -0.820  \n",
       "1 -0.837  0.301  0.101 -1.127 -1.339  0.204 -1.436 -0.358 -0.765  \n",
       "2 -0.774  0.346 -0.035 -1.098 -1.444  0.073 -1.414 -0.433 -0.730  \n",
       "3 -0.762  0.311  0.023 -1.143 -1.347  0.132 -1.396 -0.379 -0.668  \n",
       "4 -0.740  0.250  0.025 -0.971 -1.447  0.268 -1.489 -0.406 -0.696  "
      ]
     },
     "execution_count": 8,
     "metadata": {},
     "output_type": "execute_result"
    }
   ],
   "source": [
    "data = pd.read_csv('../Data/BPM_B1_formatted.txt',sep='\\t', header=None)\n",
    "data.head()"
   ]
  },
  {
   "cell_type": "code",
   "execution_count": 7,
   "metadata": {},
   "outputs": [
    {
     "data": {
      "text/plain": [
       "0     1534475788\n",
       "1     1534475900\n",
       "2     1534476235\n",
       "3     1534476421\n",
       "4     1534476644\n",
       "5     1534476718\n",
       "6     1534476830\n",
       "7     1534476904\n",
       "8     1534477314\n",
       "9     1534477388\n",
       "10    1534477462\n",
       "11    1534477611\n",
       "12    1534477760\n",
       "13    1534477834\n",
       "14    1534478020\n",
       "15    1534478058\n",
       "16    1534478132\n",
       "17    1534478206\n",
       "18    1534478281\n",
       "19    1534478355\n",
       "Name: 0, dtype: int64"
      ]
     },
     "execution_count": 7,
     "metadata": {},
     "output_type": "execute_result"
    }
   ],
   "source": [
    "data[0][:20]"
   ]
  },
  {
   "cell_type": "markdown",
   "metadata": {},
   "source": [
    "Convert the -999's and 0's to Nan's and remove them"
   ]
  },
  {
   "cell_type": "code",
   "execution_count": 10,
   "metadata": {},
   "outputs": [
    {
     "name": "stdout",
     "output_type": "stream",
     "text": [
      "<class 'pandas.core.frame.DataFrame'>\n",
      "Int64Index: 1420 entries, 0 to 1894\n",
      "Data columns (total 19 columns):\n",
      "0     1420 non-null float64\n",
      "1     1420 non-null float64\n",
      "2     1420 non-null float64\n",
      "3     1420 non-null float64\n",
      "4     1420 non-null float64\n",
      "5     1420 non-null float64\n",
      "6     1420 non-null float64\n",
      "7     1420 non-null float64\n",
      "8     1420 non-null float64\n",
      "9     1420 non-null float64\n",
      "10    1420 non-null float64\n",
      "11    1420 non-null float64\n",
      "12    1420 non-null float64\n",
      "13    1420 non-null float64\n",
      "14    1420 non-null float64\n",
      "15    1420 non-null float64\n",
      "16    1420 non-null float64\n",
      "17    1420 non-null float64\n",
      "18    1420 non-null float64\n",
      "dtypes: float64(19)\n",
      "memory usage: 221.9 KB\n"
     ]
    }
   ],
   "source": [
    "data = data.replace(-999,np.nan)\n",
    "data = data.replace(0,np.nan)\n",
    "data = data.dropna()\n",
    "data.info()"
   ]
  },
  {
   "cell_type": "code",
   "execution_count": 29,
   "metadata": {},
   "outputs": [
    {
     "data": {
      "text/plain": [
       "-0.114"
      ]
     },
     "execution_count": 29,
     "metadata": {},
     "output_type": "execute_result"
    }
   ],
   "source": [
    "data.iloc[0][1].mean()\n",
    "#len(data.columns)\n"
   ]
  },
  {
   "cell_type": "code",
   "execution_count": 11,
   "metadata": {},
   "outputs": [
    {
     "data": {
      "image/png": "[encoded data removed]",
      "text/plain": [
       "<Figure size 432x288 with 1 Axes>"
      ]
     },
     "metadata": {
      "needs_background": "light"
     },
     "output_type": "display_data"
    }
   ],
   "source": [
    "plt.figure()\n",
    "data[1].hist(bins=30)\n",
    "plt.title('Histogram of BPM Readings from the 1st Monitor')\n",
    "plt.xlabel('BPM Reading (mm)')\n",
    "plt.ylabel('Count')\n",
    "plt.savefig('../Dissertation/images/Histogram_of_BPM')"
   ]
  },
  {
   "cell_type": "code",
   "execution_count": 12,
   "metadata": {},
   "outputs": [],
   "source": [
    "def get_mse(row):\n",
    "    regression_line = data.iloc[0]\n",
    "    mse = []\n",
    "    for i in range(1,len(row)):\n",
    "        mse.append((regression_line[i]-row[i])**2)\n",
    "    return np.mean(mse)"
   ]
  },
  {
   "cell_type": "code",
   "execution_count": 31,
   "metadata": {},
   "outputs": [
    {
     "data": {
      "text/plain": [
       "0.01344794444444445"
      ]
     },
     "execution_count": 31,
     "metadata": {},
     "output_type": "execute_result"
    }
   ],
   "source": [
    "get_mse(data.iloc[1])"
   ]
  },
  {
   "cell_type": "markdown",
   "metadata": {},
   "source": [
    "Apply Function on each row:"
   ]
  },
  {
   "cell_type": "code",
   "execution_count": 13,
   "metadata": {},
   "outputs": [],
   "source": [
    "data['MSE'] = data.apply(lambda row: get_mse(row), axis=1)"
   ]
  },
  {
   "cell_type": "code",
   "execution_count": 14,
   "metadata": {},
   "outputs": [
    {
     "data": {
      "text/html": [
       "<div>\n",
       "<style scoped>\n",
       "    .dataframe tbody tr th:only-of-type {\n",
       "        vertical-align: middle;\n",
       "    }\n",
       "\n",
       "    .dataframe tbody tr th {\n",
       "        vertical-align: top;\n",
       "    }\n",
       "\n",
       "    .dataframe thead th {\n",
       "        text-align: right;\n",
       "    }\n",
       "</style>\n",
       "<table border=\"1\" class=\"dataframe\">\n",
       "  <thead>\n",
       "    <tr style=\"text-align: right;\">\n",
       "      <th></th>\n",
       "      <th>0</th>\n",
       "      <th>1</th>\n",
       "      <th>2</th>\n",
       "      <th>3</th>\n",
       "      <th>4</th>\n",
       "      <th>5</th>\n",
       "      <th>6</th>\n",
       "      <th>7</th>\n",
       "      <th>8</th>\n",
       "      <th>9</th>\n",
       "      <th>10</th>\n",
       "      <th>11</th>\n",
       "      <th>12</th>\n",
       "      <th>13</th>\n",
       "      <th>14</th>\n",
       "      <th>15</th>\n",
       "      <th>16</th>\n",
       "      <th>17</th>\n",
       "      <th>18</th>\n",
       "      <th>MSE</th>\n",
       "    </tr>\n",
       "  </thead>\n",
       "  <tbody>\n",
       "    <tr>\n",
       "      <th>0</th>\n",
       "      <td>1.534476e+09</td>\n",
       "      <td>-0.114</td>\n",
       "      <td>-0.035</td>\n",
       "      <td>-1.063</td>\n",
       "      <td>-0.024</td>\n",
       "      <td>-1.353</td>\n",
       "      <td>-1.518</td>\n",
       "      <td>-1.321</td>\n",
       "      <td>-1.025</td>\n",
       "      <td>0.254</td>\n",
       "      <td>-0.879</td>\n",
       "      <td>0.341</td>\n",
       "      <td>0.049</td>\n",
       "      <td>-1.138</td>\n",
       "      <td>-1.413</td>\n",
       "      <td>0.088</td>\n",
       "      <td>-1.494</td>\n",
       "      <td>-0.411</td>\n",
       "      <td>-0.820</td>\n",
       "      <td>0.000000</td>\n",
       "    </tr>\n",
       "    <tr>\n",
       "      <th>1</th>\n",
       "      <td>1.534476e+09</td>\n",
       "      <td>-0.062</td>\n",
       "      <td>-0.134</td>\n",
       "      <td>-0.786</td>\n",
       "      <td>-0.088</td>\n",
       "      <td>-1.211</td>\n",
       "      <td>-1.638</td>\n",
       "      <td>-1.044</td>\n",
       "      <td>-0.986</td>\n",
       "      <td>0.294</td>\n",
       "      <td>-0.837</td>\n",
       "      <td>0.301</td>\n",
       "      <td>0.101</td>\n",
       "      <td>-1.127</td>\n",
       "      <td>-1.339</td>\n",
       "      <td>0.204</td>\n",
       "      <td>-1.436</td>\n",
       "      <td>-0.358</td>\n",
       "      <td>-0.765</td>\n",
       "      <td>0.013448</td>\n",
       "    </tr>\n",
       "    <tr>\n",
       "      <th>2</th>\n",
       "      <td>1.534476e+09</td>\n",
       "      <td>-0.146</td>\n",
       "      <td>0.082</td>\n",
       "      <td>-1.066</td>\n",
       "      <td>0.090</td>\n",
       "      <td>-1.405</td>\n",
       "      <td>-1.392</td>\n",
       "      <td>-1.333</td>\n",
       "      <td>-0.891</td>\n",
       "      <td>0.286</td>\n",
       "      <td>-0.774</td>\n",
       "      <td>0.346</td>\n",
       "      <td>-0.035</td>\n",
       "      <td>-1.098</td>\n",
       "      <td>-1.444</td>\n",
       "      <td>0.073</td>\n",
       "      <td>-1.414</td>\n",
       "      <td>-0.433</td>\n",
       "      <td>-0.730</td>\n",
       "      <td>0.005628</td>\n",
       "    </tr>\n",
       "    <tr>\n",
       "      <th>3</th>\n",
       "      <td>1.534476e+09</td>\n",
       "      <td>-0.104</td>\n",
       "      <td>-0.037</td>\n",
       "      <td>-0.872</td>\n",
       "      <td>-0.020</td>\n",
       "      <td>-1.259</td>\n",
       "      <td>-1.500</td>\n",
       "      <td>-1.106</td>\n",
       "      <td>-0.912</td>\n",
       "      <td>0.269</td>\n",
       "      <td>-0.762</td>\n",
       "      <td>0.311</td>\n",
       "      <td>0.023</td>\n",
       "      <td>-1.143</td>\n",
       "      <td>-1.347</td>\n",
       "      <td>0.132</td>\n",
       "      <td>-1.396</td>\n",
       "      <td>-0.379</td>\n",
       "      <td>-0.668</td>\n",
       "      <td>0.008905</td>\n",
       "    </tr>\n",
       "    <tr>\n",
       "      <th>4</th>\n",
       "      <td>1.534477e+09</td>\n",
       "      <td>-0.014</td>\n",
       "      <td>-0.008</td>\n",
       "      <td>-0.859</td>\n",
       "      <td>0.053</td>\n",
       "      <td>-1.343</td>\n",
       "      <td>-1.365</td>\n",
       "      <td>-1.211</td>\n",
       "      <td>-0.913</td>\n",
       "      <td>0.224</td>\n",
       "      <td>-0.740</td>\n",
       "      <td>0.250</td>\n",
       "      <td>0.025</td>\n",
       "      <td>-0.971</td>\n",
       "      <td>-1.447</td>\n",
       "      <td>0.268</td>\n",
       "      <td>-1.489</td>\n",
       "      <td>-0.406</td>\n",
       "      <td>-0.696</td>\n",
       "      <td>0.011799</td>\n",
       "    </tr>\n",
       "  </tbody>\n",
       "</table>\n",
       "</div>"
      ],
      "text/plain": [
       "              0      1      2      3      4      5      6      7      8  \\\n",
       "0  1.534476e+09 -0.114 -0.035 -1.063 -0.024 -1.353 -1.518 -1.321 -1.025   \n",
       "1  1.534476e+09 -0.062 -0.134 -0.786 -0.088 -1.211 -1.638 -1.044 -0.986   \n",
       "2  1.534476e+09 -0.146  0.082 -1.066  0.090 -1.405 -1.392 -1.333 -0.891   \n",
       "3  1.534476e+09 -0.104 -0.037 -0.872 -0.020 -1.259 -1.500 -1.106 -0.912   \n",
       "4  1.534477e+09 -0.014 -0.008 -0.859  0.053 -1.343 -1.365 -1.211 -0.913   \n",
       "\n",
       "       9     10     11     12     13     14     15     16     17     18  \\\n",
       "0  0.254 -0.879  0.341  0.049 -1.138 -1.413  0.088 -1.494 -0.411 -0.820   \n",
       "1  0.294 -0.837  0.301  0.101 -1.127 -1.339  0.204 -1.436 -0.358 -0.765   \n",
       "2  0.286 -0.774  0.346 -0.035 -1.098 -1.444  0.073 -1.414 -0.433 -0.730   \n",
       "3  0.269 -0.762  0.311  0.023 -1.143 -1.347  0.132 -1.396 -0.379 -0.668   \n",
       "4  0.224 -0.740  0.250  0.025 -0.971 -1.447  0.268 -1.489 -0.406 -0.696   \n",
       "\n",
       "        MSE  \n",
       "0  0.000000  \n",
       "1  0.013448  \n",
       "2  0.005628  \n",
       "3  0.008905  \n",
       "4  0.011799  "
      ]
     },
     "execution_count": 14,
     "metadata": {},
     "output_type": "execute_result"
    }
   ],
   "source": [
    "data.head()"
   ]
  },
  {
   "cell_type": "code",
   "execution_count": 15,
   "metadata": {},
   "outputs": [],
   "source": [
    "data = data.rename(columns={0:'Time Stamp'})"
   ]
  },
  {
   "cell_type": "code",
   "execution_count": 16,
   "metadata": {},
   "outputs": [
    {
     "data": {
      "text/html": [
       "<div>\n",
       "<style scoped>\n",
       "    .dataframe tbody tr th:only-of-type {\n",
       "        vertical-align: middle;\n",
       "    }\n",
       "\n",
       "    .dataframe tbody tr th {\n",
       "        vertical-align: top;\n",
       "    }\n",
       "\n",
       "    .dataframe thead th {\n",
       "        text-align: right;\n",
       "    }\n",
       "</style>\n",
       "<table border=\"1\" class=\"dataframe\">\n",
       "  <thead>\n",
       "    <tr style=\"text-align: right;\">\n",
       "      <th></th>\n",
       "      <th>Time Stamp</th>\n",
       "      <th>1</th>\n",
       "      <th>2</th>\n",
       "      <th>3</th>\n",
       "      <th>4</th>\n",
       "      <th>5</th>\n",
       "      <th>6</th>\n",
       "      <th>7</th>\n",
       "      <th>8</th>\n",
       "      <th>9</th>\n",
       "      <th>10</th>\n",
       "      <th>11</th>\n",
       "      <th>12</th>\n",
       "      <th>13</th>\n",
       "      <th>14</th>\n",
       "      <th>15</th>\n",
       "      <th>16</th>\n",
       "      <th>17</th>\n",
       "      <th>18</th>\n",
       "      <th>MSE</th>\n",
       "    </tr>\n",
       "  </thead>\n",
       "  <tbody>\n",
       "    <tr>\n",
       "      <th>1648</th>\n",
       "      <td>1.539552e+09</td>\n",
       "      <td>-0.3</td>\n",
       "      <td>1.368</td>\n",
       "      <td>-1.963</td>\n",
       "      <td>1.13</td>\n",
       "      <td>-2.269</td>\n",
       "      <td>-0.009</td>\n",
       "      <td>-2.76</td>\n",
       "      <td>-0.101</td>\n",
       "      <td>-0.682</td>\n",
       "      <td>-0.029</td>\n",
       "      <td>0.099</td>\n",
       "      <td>-1.023</td>\n",
       "      <td>0.574</td>\n",
       "      <td>-1.722</td>\n",
       "      <td>-0.719</td>\n",
       "      <td>-1.026</td>\n",
       "      <td>-1.151</td>\n",
       "      <td>0.107</td>\n",
       "      <td>1.016407</td>\n",
       "    </tr>\n",
       "  </tbody>\n",
       "</table>\n",
       "</div>"
      ],
      "text/plain": [
       "        Time Stamp    1      2      3     4      5      6     7      8      9  \\\n",
       "1648  1.539552e+09 -0.3  1.368 -1.963  1.13 -2.269 -0.009 -2.76 -0.101 -0.682   \n",
       "\n",
       "         10     11     12     13     14     15     16     17     18       MSE  \n",
       "1648 -0.029  0.099 -1.023  0.574 -1.722 -0.719 -1.026 -1.151  0.107  1.016407  "
      ]
     },
     "execution_count": 16,
     "metadata": {},
     "output_type": "execute_result"
    }
   ],
   "source": [
    "condition = data['MSE'] > 0.7\n",
    "condition2 = data['MSE'] <= 0.7\n",
    "new_data = data[condition]\n",
    "new_data.head()\n",
    "\n",
    "#data = data[condition2]"
   ]
  },
  {
   "cell_type": "code",
   "execution_count": 17,
   "metadata": {},
   "outputs": [
    {
     "data": {
      "text/plain": [
       "Text(0.5,1,'MSE of Beam Positions in the TL')"
      ]
     },
     "execution_count": 17,
     "metadata": {},
     "output_type": "execute_result"
    },
    {
     "data": {
      "image/png": "[encoded data removed]",
      "text/plain": [
       "<Figure size 432x288 with 1 Axes>"
      ]
     },
     "metadata": {
      "needs_background": "light"
     },
     "output_type": "display_data"
    }
   ],
   "source": [
    "fig = plt.figure()\n",
    "plt.plot(data['Time Stamp'],data['MSE'])\n",
    "plt.xlabel('Time Stamp')\n",
    "plt.ylabel('MSE')\n",
    "plt.title('MSE of Beam Positions in the TL')"
   ]
  },
  {
   "cell_type": "markdown",
   "metadata": {},
   "source": [
    "##### Some Time Series Analysis"
   ]
  },
  {
   "cell_type": "code",
   "execution_count": 32,
   "metadata": {},
   "outputs": [
    {
     "data": {
      "image/png": "[encoded data removed]",
      "text/plain": [
       "<Figure size 432x288 with 1 Axes>"
      ]
     },
     "metadata": {
      "needs_background": "light"
     },
     "output_type": "display_data"
    }
   ],
   "source": [
    "plt.figure()\n",
    "data['MSE'].rolling(12).mean().plot()\n",
    "plt.title('BPM MSE Trend (Beam 1)')\n",
    "plt.xlabel('Injection')\n",
    "plt.ylabel('BPM MSE')\n",
    "plt.savefig('../Dissertation/images/BPM_MSE_Trend_B1')"
   ]
  },
  {
   "cell_type": "code",
   "execution_count": 36,
   "metadata": {},
   "outputs": [
    {
     "data": {
      "image/png": "[encoded data removed]",
      "text/plain": [
       "<Figure size 432x288 with 1 Axes>"
      ]
     },
     "metadata": {
      "needs_background": "light"
     },
     "output_type": "display_data"
    }
   ],
   "source": [
    "plt.figure()\n",
    "data['MSE'].diff().plot()\n",
    "plt.title('BPM MSE 1st Order Differencing (Beam 1)')\n",
    "plt.xlabel('Injection')\n",
    "plt.ylabel('BPM MSE')\n",
    "plt.savefig('../Dissertation/images/BPM_MSE_Diff_B1')"
   ]
  },
  {
   "cell_type": "code",
   "execution_count": 35,
   "metadata": {},
   "outputs": [
    {
     "data": {
      "text/plain": [
       "<matplotlib.axes._subplots.AxesSubplot at 0x7efbc0003208>"
      ]
     },
     "execution_count": 35,
     "metadata": {},
     "output_type": "execute_result"
    },
    {
     "data": {
      "image/png": "[encoded data removed]",
      "text/plain": [
       "<Figure size 432x288 with 1 Axes>"
      ]
     },
     "metadata": {
      "needs_background": "light"
     },
     "output_type": "display_data"
    }
   ],
   "source": [
    "pd.plotting.autocorrelation_plot(data['MSE'])"
   ]
  },
  {
   "cell_type": "code",
   "execution_count": 37,
   "metadata": {},
   "outputs": [],
   "source": [
    "data.to_pickle('../Data/Beam1_TL_BPM.pkl')"
   ]
  },
  {
   "cell_type": "markdown",
   "metadata": {},
   "source": [
    "## Same thing for TI8:"
   ]
  },
  {
   "cell_type": "code",
   "execution_count": 21,
   "metadata": {},
   "outputs": [
    {
     "data": {
      "text/html": [
       "<div>\n",
       "<style scoped>\n",
       "    .dataframe tbody tr th:only-of-type {\n",
       "        vertical-align: middle;\n",
       "    }\n",
       "\n",
       "    .dataframe tbody tr th {\n",
       "        vertical-align: top;\n",
       "    }\n",
       "\n",
       "    .dataframe thead th {\n",
       "        text-align: right;\n",
       "    }\n",
       "</style>\n",
       "<table border=\"1\" class=\"dataframe\">\n",
       "  <thead>\n",
       "    <tr style=\"text-align: right;\">\n",
       "      <th></th>\n",
       "      <th>0</th>\n",
       "      <th>1</th>\n",
       "      <th>2</th>\n",
       "      <th>3</th>\n",
       "      <th>4</th>\n",
       "      <th>5</th>\n",
       "      <th>6</th>\n",
       "      <th>7</th>\n",
       "      <th>8</th>\n",
       "      <th>9</th>\n",
       "      <th>10</th>\n",
       "      <th>11</th>\n",
       "      <th>12</th>\n",
       "      <th>13</th>\n",
       "      <th>14</th>\n",
       "      <th>15</th>\n",
       "      <th>16</th>\n",
       "      <th>17</th>\n",
       "      <th>18</th>\n",
       "    </tr>\n",
       "  </thead>\n",
       "  <tbody>\n",
       "    <tr>\n",
       "      <th>0</th>\n",
       "      <td>1534475826</td>\n",
       "      <td>-0.309</td>\n",
       "      <td>1.716</td>\n",
       "      <td>0.349</td>\n",
       "      <td>0.999</td>\n",
       "      <td>-0.028</td>\n",
       "      <td>0.528</td>\n",
       "      <td>0.183</td>\n",
       "      <td>-0.415</td>\n",
       "      <td>-1.164</td>\n",
       "      <td>0.774</td>\n",
       "      <td>-0.029</td>\n",
       "      <td>0.771</td>\n",
       "      <td>-0.570</td>\n",
       "      <td>0.313</td>\n",
       "      <td>-0.164</td>\n",
       "      <td>-0.422</td>\n",
       "      <td>-0.164</td>\n",
       "      <td>-0.422</td>\n",
       "    </tr>\n",
       "    <tr>\n",
       "      <th>1</th>\n",
       "      <td>1534475937</td>\n",
       "      <td>-0.316</td>\n",
       "      <td>1.542</td>\n",
       "      <td>0.421</td>\n",
       "      <td>0.851</td>\n",
       "      <td>0.041</td>\n",
       "      <td>0.431</td>\n",
       "      <td>0.261</td>\n",
       "      <td>-0.398</td>\n",
       "      <td>-1.202</td>\n",
       "      <td>0.704</td>\n",
       "      <td>0.002</td>\n",
       "      <td>0.646</td>\n",
       "      <td>-0.406</td>\n",
       "      <td>0.253</td>\n",
       "      <td>-0.138</td>\n",
       "      <td>-0.468</td>\n",
       "      <td>-0.138</td>\n",
       "      <td>-0.468</td>\n",
       "    </tr>\n",
       "    <tr>\n",
       "      <th>2</th>\n",
       "      <td>1534476309</td>\n",
       "      <td>-0.341</td>\n",
       "      <td>1.545</td>\n",
       "      <td>0.342</td>\n",
       "      <td>1.016</td>\n",
       "      <td>0.021</td>\n",
       "      <td>0.740</td>\n",
       "      <td>0.340</td>\n",
       "      <td>-0.310</td>\n",
       "      <td>-1.212</td>\n",
       "      <td>0.611</td>\n",
       "      <td>-0.063</td>\n",
       "      <td>0.690</td>\n",
       "      <td>-0.497</td>\n",
       "      <td>0.403</td>\n",
       "      <td>-0.142</td>\n",
       "      <td>-0.378</td>\n",
       "      <td>-0.142</td>\n",
       "      <td>-0.378</td>\n",
       "    </tr>\n",
       "    <tr>\n",
       "      <th>3</th>\n",
       "      <td>1534476458</td>\n",
       "      <td>-0.285</td>\n",
       "      <td>1.523</td>\n",
       "      <td>0.425</td>\n",
       "      <td>1.048</td>\n",
       "      <td>0.065</td>\n",
       "      <td>0.750</td>\n",
       "      <td>0.362</td>\n",
       "      <td>-0.293</td>\n",
       "      <td>-1.215</td>\n",
       "      <td>0.594</td>\n",
       "      <td>-0.008</td>\n",
       "      <td>0.663</td>\n",
       "      <td>-0.256</td>\n",
       "      <td>0.352</td>\n",
       "      <td>-0.056</td>\n",
       "      <td>-0.375</td>\n",
       "      <td>-0.056</td>\n",
       "      <td>-0.375</td>\n",
       "    </tr>\n",
       "    <tr>\n",
       "      <th>4</th>\n",
       "      <td>1534476532</td>\n",
       "      <td>-0.300</td>\n",
       "      <td>1.311</td>\n",
       "      <td>0.287</td>\n",
       "      <td>1.056</td>\n",
       "      <td>-0.050</td>\n",
       "      <td>0.930</td>\n",
       "      <td>0.210</td>\n",
       "      <td>-0.234</td>\n",
       "      <td>-1.164</td>\n",
       "      <td>0.419</td>\n",
       "      <td>0.021</td>\n",
       "      <td>0.517</td>\n",
       "      <td>-0.390</td>\n",
       "      <td>0.393</td>\n",
       "      <td>-0.139</td>\n",
       "      <td>-0.273</td>\n",
       "      <td>-0.139</td>\n",
       "      <td>-0.273</td>\n",
       "    </tr>\n",
       "  </tbody>\n",
       "</table>\n",
       "</div>"
      ],
      "text/plain": [
       "           0      1      2      3      4      5      6      7      8      9   \\\n",
       "0  1534475826 -0.309  1.716  0.349  0.999 -0.028  0.528  0.183 -0.415 -1.164   \n",
       "1  1534475937 -0.316  1.542  0.421  0.851  0.041  0.431  0.261 -0.398 -1.202   \n",
       "2  1534476309 -0.341  1.545  0.342  1.016  0.021  0.740  0.340 -0.310 -1.212   \n",
       "3  1534476458 -0.285  1.523  0.425  1.048  0.065  0.750  0.362 -0.293 -1.215   \n",
       "4  1534476532 -0.300  1.311  0.287  1.056 -0.050  0.930  0.210 -0.234 -1.164   \n",
       "\n",
       "      10     11     12     13     14     15     16     17     18  \n",
       "0  0.774 -0.029  0.771 -0.570  0.313 -0.164 -0.422 -0.164 -0.422  \n",
       "1  0.704  0.002  0.646 -0.406  0.253 -0.138 -0.468 -0.138 -0.468  \n",
       "2  0.611 -0.063  0.690 -0.497  0.403 -0.142 -0.378 -0.142 -0.378  \n",
       "3  0.594 -0.008  0.663 -0.256  0.352 -0.056 -0.375 -0.056 -0.375  \n",
       "4  0.419  0.021  0.517 -0.390  0.393 -0.139 -0.273 -0.139 -0.273  "
      ]
     },
     "execution_count": 21,
     "metadata": {},
     "output_type": "execute_result"
    }
   ],
   "source": [
    "dataB2 = pd.read_csv('../Data/BPM_B2_formatted.txt',sep='\\t', header=None)\n",
    "dataB2.head()"
   ]
  },
  {
   "cell_type": "code",
   "execution_count": 22,
   "metadata": {},
   "outputs": [
    {
     "name": "stdout",
     "output_type": "stream",
     "text": [
      "<class 'pandas.core.frame.DataFrame'>\n",
      "Int64Index: 1455 entries, 0 to 1739\n",
      "Data columns (total 19 columns):\n",
      "0     1455 non-null float64\n",
      "1     1455 non-null float64\n",
      "2     1455 non-null float64\n",
      "3     1455 non-null float64\n",
      "4     1455 non-null float64\n",
      "5     1455 non-null float64\n",
      "6     1455 non-null float64\n",
      "7     1455 non-null float64\n",
      "8     1455 non-null float64\n",
      "9     1455 non-null float64\n",
      "10    1455 non-null float64\n",
      "11    1455 non-null float64\n",
      "12    1455 non-null float64\n",
      "13    1455 non-null float64\n",
      "14    1455 non-null float64\n",
      "15    1455 non-null float64\n",
      "16    1455 non-null float64\n",
      "17    1455 non-null float64\n",
      "18    1455 non-null float64\n",
      "dtypes: float64(19)\n",
      "memory usage: 227.3 KB\n"
     ]
    }
   ],
   "source": [
    "dataB2 = dataB2.replace(-999,np.nan)\n",
    "dataB2 = dataB2.replace(0,np.nan)\n",
    "dataB2 = dataB2.dropna()\n",
    "dataB2.info()"
   ]
  },
  {
   "cell_type": "code",
   "execution_count": 23,
   "metadata": {},
   "outputs": [],
   "source": [
    "def get_mseB2(row):\n",
    "    regression_line = dataB2.iloc[0]\n",
    "    mse = []\n",
    "    for i in range(1,len(row)):\n",
    "        mse.append((regression_line[i]-row[i])**2)\n",
    "    return np.mean(mse)"
   ]
  },
  {
   "cell_type": "code",
   "execution_count": 24,
   "metadata": {},
   "outputs": [],
   "source": [
    "dataB2['MSE'] = dataB2.apply(lambda row: get_mseB2(row), axis=1)"
   ]
  },
  {
   "cell_type": "code",
   "execution_count": 25,
   "metadata": {},
   "outputs": [],
   "source": [
    "dataB2 = dataB2.rename(columns={0:'Time Stamp'})"
   ]
  },
  {
   "cell_type": "code",
   "execution_count": 26,
   "metadata": {},
   "outputs": [
    {
     "data": {
      "text/html": [
       "<div>\n",
       "<style scoped>\n",
       "    .dataframe tbody tr th:only-of-type {\n",
       "        vertical-align: middle;\n",
       "    }\n",
       "\n",
       "    .dataframe tbody tr th {\n",
       "        vertical-align: top;\n",
       "    }\n",
       "\n",
       "    .dataframe thead th {\n",
       "        text-align: right;\n",
       "    }\n",
       "</style>\n",
       "<table border=\"1\" class=\"dataframe\">\n",
       "  <thead>\n",
       "    <tr style=\"text-align: right;\">\n",
       "      <th></th>\n",
       "      <th>Time Stamp</th>\n",
       "      <th>1</th>\n",
       "      <th>2</th>\n",
       "      <th>3</th>\n",
       "      <th>4</th>\n",
       "      <th>5</th>\n",
       "      <th>6</th>\n",
       "      <th>7</th>\n",
       "      <th>8</th>\n",
       "      <th>9</th>\n",
       "      <th>10</th>\n",
       "      <th>11</th>\n",
       "      <th>12</th>\n",
       "      <th>13</th>\n",
       "      <th>14</th>\n",
       "      <th>15</th>\n",
       "      <th>16</th>\n",
       "      <th>17</th>\n",
       "      <th>18</th>\n",
       "      <th>MSE</th>\n",
       "    </tr>\n",
       "  </thead>\n",
       "  <tbody>\n",
       "    <tr>\n",
       "      <th>1514</th>\n",
       "      <td>1.539552e+09</td>\n",
       "      <td>-1.428</td>\n",
       "      <td>2.042</td>\n",
       "      <td>-2.162</td>\n",
       "      <td>1.302</td>\n",
       "      <td>-1.153</td>\n",
       "      <td>1.276</td>\n",
       "      <td>-1.055</td>\n",
       "      <td>-0.379</td>\n",
       "      <td>-0.098</td>\n",
       "      <td>0.105</td>\n",
       "      <td>0.249</td>\n",
       "      <td>0.617</td>\n",
       "      <td>-0.877</td>\n",
       "      <td>0.528</td>\n",
       "      <td>-0.975</td>\n",
       "      <td>-0.229</td>\n",
       "      <td>-0.975</td>\n",
       "      <td>-0.229</td>\n",
       "      <td>0.796098</td>\n",
       "    </tr>\n",
       "    <tr>\n",
       "      <th>1517</th>\n",
       "      <td>1.539552e+09</td>\n",
       "      <td>-1.368</td>\n",
       "      <td>2.122</td>\n",
       "      <td>-2.160</td>\n",
       "      <td>1.324</td>\n",
       "      <td>-1.064</td>\n",
       "      <td>1.276</td>\n",
       "      <td>-0.946</td>\n",
       "      <td>-0.394</td>\n",
       "      <td>-0.142</td>\n",
       "      <td>0.069</td>\n",
       "      <td>0.338</td>\n",
       "      <td>0.617</td>\n",
       "      <td>-0.451</td>\n",
       "      <td>0.552</td>\n",
       "      <td>-0.941</td>\n",
       "      <td>-0.229</td>\n",
       "      <td>-0.941</td>\n",
       "      <td>-0.229</td>\n",
       "      <td>0.758225</td>\n",
       "    </tr>\n",
       "    <tr>\n",
       "      <th>1521</th>\n",
       "      <td>1.539553e+09</td>\n",
       "      <td>-1.375</td>\n",
       "      <td>2.107</td>\n",
       "      <td>-2.090</td>\n",
       "      <td>1.324</td>\n",
       "      <td>-1.044</td>\n",
       "      <td>1.288</td>\n",
       "      <td>-0.974</td>\n",
       "      <td>-0.409</td>\n",
       "      <td>-0.134</td>\n",
       "      <td>0.069</td>\n",
       "      <td>0.283</td>\n",
       "      <td>0.636</td>\n",
       "      <td>-0.443</td>\n",
       "      <td>0.584</td>\n",
       "      <td>-0.881</td>\n",
       "      <td>-0.263</td>\n",
       "      <td>-0.881</td>\n",
       "      <td>-0.263</td>\n",
       "      <td>0.729663</td>\n",
       "    </tr>\n",
       "    <tr>\n",
       "      <th>1523</th>\n",
       "      <td>1.539562e+09</td>\n",
       "      <td>-1.328</td>\n",
       "      <td>2.129</td>\n",
       "      <td>-2.042</td>\n",
       "      <td>1.379</td>\n",
       "      <td>-1.049</td>\n",
       "      <td>1.246</td>\n",
       "      <td>-0.961</td>\n",
       "      <td>-0.435</td>\n",
       "      <td>-0.153</td>\n",
       "      <td>0.106</td>\n",
       "      <td>0.307</td>\n",
       "      <td>0.661</td>\n",
       "      <td>-0.402</td>\n",
       "      <td>0.601</td>\n",
       "      <td>-0.885</td>\n",
       "      <td>-0.253</td>\n",
       "      <td>-0.885</td>\n",
       "      <td>-0.253</td>\n",
       "      <td>0.707701</td>\n",
       "    </tr>\n",
       "  </tbody>\n",
       "</table>\n",
       "</div>"
      ],
      "text/plain": [
       "        Time Stamp      1      2      3      4      5      6      7      8  \\\n",
       "1514  1.539552e+09 -1.428  2.042 -2.162  1.302 -1.153  1.276 -1.055 -0.379   \n",
       "1517  1.539552e+09 -1.368  2.122 -2.160  1.324 -1.064  1.276 -0.946 -0.394   \n",
       "1521  1.539553e+09 -1.375  2.107 -2.090  1.324 -1.044  1.288 -0.974 -0.409   \n",
       "1523  1.539562e+09 -1.328  2.129 -2.042  1.379 -1.049  1.246 -0.961 -0.435   \n",
       "\n",
       "          9     10     11     12     13     14     15     16     17     18  \\\n",
       "1514 -0.098  0.105  0.249  0.617 -0.877  0.528 -0.975 -0.229 -0.975 -0.229   \n",
       "1517 -0.142  0.069  0.338  0.617 -0.451  0.552 -0.941 -0.229 -0.941 -0.229   \n",
       "1521 -0.134  0.069  0.283  0.636 -0.443  0.584 -0.881 -0.263 -0.881 -0.263   \n",
       "1523 -0.153  0.106  0.307  0.661 -0.402  0.601 -0.885 -0.253 -0.885 -0.253   \n",
       "\n",
       "           MSE  \n",
       "1514  0.796098  \n",
       "1517  0.758225  \n",
       "1521  0.729663  \n",
       "1523  0.707701  "
      ]
     },
     "execution_count": 26,
     "metadata": {},
     "output_type": "execute_result"
    }
   ],
   "source": [
    "condition = dataB2['MSE'] > 0.7\n",
    "condition2 = dataB2['MSE'] <= 0.7\n",
    "new_data = dataB2[condition]\n",
    "new_data.head()"
   ]
  },
  {
   "cell_type": "code",
   "execution_count": 27,
   "metadata": {},
   "outputs": [
    {
     "data": {
      "text/plain": [
       "Text(0.5,1,'MSE of Beam Positions in the TL')"
      ]
     },
     "execution_count": 27,
     "metadata": {},
     "output_type": "execute_result"
    },
    {
     "data": {
      "image/png": "[encoded data removed]",
      "text/plain": [
       "<Figure size 432x288 with 1 Axes>"
      ]
     },
     "metadata": {
      "needs_background": "light"
     },
     "output_type": "display_data"
    }
   ],
   "source": [
    "fig = plt.figure()\n",
    "plt.plot(dataB2['Time Stamp'],dataB2['MSE'])\n",
    "plt.xlabel('Time Stamp')\n",
    "plt.ylabel('MSE')\n",
    "plt.title('MSE of Beam Positions in the TL')"
   ]
  },
  {
   "cell_type": "markdown",
   "metadata": {},
   "source": [
    "##### Time Series Analysis:"
   ]
  },
  {
   "cell_type": "code",
   "execution_count": 33,
   "metadata": {},
   "outputs": [
    {
     "data": {
      "image/png": "[encoded data removed]",
      "text/plain": [
       "<Figure size 432x288 with 1 Axes>"
      ]
     },
     "metadata": {
      "needs_background": "light"
     },
     "output_type": "display_data"
    }
   ],
   "source": [
    "plt.figure()\n",
    "dataB2['MSE'].rolling(12).mean().plot()\n",
    "plt.title('BPM MSE Trend (Beam 2)')\n",
    "plt.xlabel('Injection')\n",
    "plt.ylabel('BPM MSE')\n",
    "plt.savefig('../Dissertation/images/BPM_MSE_Trend_B2')"
   ]
  },
  {
   "cell_type": "code",
   "execution_count": 38,
   "metadata": {},
   "outputs": [
    {
     "data": {
      "image/png": "[encoded data removed]",
      "text/plain": [
       "<Figure size 432x288 with 1 Axes>"
      ]
     },
     "metadata": {
      "needs_background": "light"
     },
     "output_type": "display_data"
    }
   ],
   "source": [
    "plt.figure()\n",
    "dataB2['MSE'].diff().plot()\n",
    "plt.title('BPM MSE 1st Order Differencing (Beam 2)')\n",
    "plt.xlabel('Injection')\n",
    "plt.ylabel('BPM MSE')\n",
    "plt.savefig('../Dissertation/images/BPM_MSE_Diff_B2')"
   ]
  },
  {
   "cell_type": "code",
   "execution_count": 39,
   "metadata": {},
   "outputs": [
    {
     "data": {
      "text/plain": [
       "<matplotlib.axes._subplots.AxesSubplot at 0x7efbbff491d0>"
      ]
     },
     "execution_count": 39,
     "metadata": {},
     "output_type": "execute_result"
    },
    {
     "data": {
      "image/png": "[encoded data removed]",
      "text/plain": [
       "<Figure size 432x288 with 1 Axes>"
      ]
     },
     "metadata": {
      "needs_background": "light"
     },
     "output_type": "display_data"
    }
   ],
   "source": [
    "pd.plotting.autocorrelation_plot(data['MSE'])"
   ]
  },
  {
   "cell_type": "code",
   "execution_count": 44,
   "metadata": {},
   "outputs": [],
   "source": [
    "dataB2.to_pickle('../Data/Beam2_TL_BPM.pkl')"
   ]
  }
 ],
 "metadata": {
  "kernelspec": {
   "display_name": "Python 3",
   "language": "python",
   "name": "python3"
  },
  "language_info": {
   "codemirror_mode": {
    "name": "ipython",
    "version": 3
   },
   "file_extension": ".py",
   "mimetype": "text/x-python",
   "name": "python",
   "nbconvert_exporter": "python",
   "pygments_lexer": "ipython3",
   "version": "3.7.1"
  }
 },
 "nbformat": 4,
 "nbformat_minor": 2
}
