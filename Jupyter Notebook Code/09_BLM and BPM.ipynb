{
 "cells": [
  {
   "cell_type": "code",
   "execution_count": 1,
   "metadata": {},
   "outputs": [
    {
     "name": "stdout",
     "output_type": "stream",
     "text": [
      "Once deleted, variables cannot be recovered. Proceed (y/[n])? y\n"
     ]
    }
   ],
   "source": [
    "%reset\n",
    "\n",
    "import pandas as pd\n",
    "import numpy as np\n",
    "import matplotlib.pyplot as plt\n",
    "from mpl_toolkits.mplot3d import Axes3D #For 3D Plots\n",
    "\n",
    "#Required by Jupyter for inlining images\n",
    "%matplotlib inline"
   ]
  },
  {
   "cell_type": "code",
   "execution_count": 2,
   "metadata": {},
   "outputs": [],
   "source": [
    "TL_BPM = pd.read_pickle('../Data/Beam1_TL_BPM.pkl')\n",
    "BLM = pd.read_pickle('../Data/Beam1_BLM.pkl')"
   ]
  },
  {
   "cell_type": "code",
   "execution_count": 9,
   "metadata": {},
   "outputs": [
    {
     "name": "stdout",
     "output_type": "stream",
     "text": [
      "Num of Rows:\n",
      "BPM: 1463\n",
      "BLM: 1898\n"
     ]
    }
   ],
   "source": [
    "print('Num of Rows:')\n",
    "print('BPM: ' + str(len(TL_BPM)))\n",
    "print('BLM: ' + str(len(BLM)))"
   ]
  },
  {
   "cell_type": "code",
   "execution_count": 7,
   "metadata": {},
   "outputs": [
    {
     "name": "stdout",
     "output_type": "stream",
     "text": [
      "BPM Range: 1534475788.0 - 1540020799.0\n",
      "BLM Range: 1534475807.77 - 1540020824.866\n"
     ]
    }
   ],
   "source": [
    "print('BPM Range: ' + str(min(TL_BPM['Time Stamp'])) + ' - ' + str(max(TL_BPM['Time Stamp'])))\n",
    "print('BLM Range: ' + str(min(BLM['Time Stamp'])) + ' - ' + str(max(BLM['Time Stamp'])))"
   ]
  },
  {
   "cell_type": "markdown",
   "metadata": {},
   "source": [
    "## Firstly, BPMs should be normalised since the BLM data is normalised"
   ]
  },
  {
   "cell_type": "code",
   "execution_count": 10,
   "metadata": {},
   "outputs": [],
   "source": [
    "TL_BPM['MSE'] = (TL_BPM['MSE']-min(TL_BPM['MSE']))/(max(TL_BPM['MSE'])-min(TL_BPM['MSE']))"
   ]
  },
  {
   "cell_type": "markdown",
   "metadata": {},
   "source": [
    "Find the Time Stamp in BPM that is closest to the first Time Stamp in BLM"
   ]
  },
  {
   "cell_type": "code",
   "execution_count": 14,
   "metadata": {},
   "outputs": [
    {
     "name": "stdout",
     "output_type": "stream",
     "text": [
      "1534475788.0\n"
     ]
    }
   ],
   "source": [
    "start_time = BLM['Time Stamp'][0]\n",
    "i = 0;\n",
    "while TL_BPM['Time Stamp'][i] < start_time:\n",
    "    print(TL_BPM['Time Stamp'][i])\n",
    "    i = i + 1"
   ]
  },
  {
   "cell_type": "markdown",
   "metadata": {},
   "source": [
    "## Match TimeStamps"
   ]
  },
  {
   "cell_type": "markdown",
   "metadata": {},
   "source": [
    "## Doesn't work well \n",
    "def match_datasets(df_1, col_index_1, df_2, col_index_2, epsilon):\n",
    "    #col_indexes are the names of the columns to search (eg. 'Time Stamp')\n",
    "    #Epsilon is the tolerance in seconds\n",
    "    \n",
    "    matched = 0 #Number of elements matched\n",
    "    dropped_df_1 = 0 #Number of elements dropped from df_1\n",
    "    dropped_df_2 = 0 #Number of elements dropped from df_2\n",
    "    \n",
    "    #Ensure Dataframes are sorted by timestamp\n",
    "    df_1 = df_1.sort_values(by=[col_index_1]).reset_index()\n",
    "    df_2 = df_2.sort_values(by=[col_index_2]).reset_index()\n",
    "    \n",
    "    i = 0 #keeps track of index of df_1\n",
    "    j = 0 #keeps track of index of df_2\n",
    "    while i < len(df_1[col_index_1])-1 and j < len(df_2[col_index_2])-1:\n",
    "        if abs(df_1[col_index_1][i]-df_2[col_index_2][j]) < epsilon:\n",
    "            #Case 1:\n",
    "            #Points matched\n",
    "            matched = matched + 1\n",
    "            #Increment both i and j\n",
    "            i = i + 1\n",
    "            j = j + 1\n",
    "        #Lookahead on i\n",
    "        elif abs(df_1[col_index_1][i+1]-df_2[col_index_2][j]) < epsilon:\n",
    "            #Case 2:\n",
    "            dropped_df_1 = dropped_df_1 + 1 \n",
    "            #increment i\n",
    "            i = i + 1\n",
    "        #Lookahead on j\n",
    "        elif abs(df_1[col_index_1][i]-df_2[col_index_2][j+1]) < epsilon:\n",
    "            #Case 3:\n",
    "            dropped_df_2 = dropped_df_2 + 1\n",
    "            #increment j\n",
    "            j = j + 1\n",
    "        #else drop both points\n",
    "        else:\n",
    "            #Case 4:\n",
    "            dropped_df_1 = dropped_df_1 + 1\n",
    "            dropped_df_2 = dropped_df_2 + 1\n",
    "            i = i + 1\n",
    "            j = j + 1\n",
    "    \n",
    "    print('Matched: ' + str(matched))\n",
    "    print('Dropped from 1st df: ' + str(dropped_df_1))\n",
    "    print('Dropped from 2nd df: ' + str(dropped_df_2))        "
   ]
  },
  {
   "cell_type": "code",
   "execution_count": 29,
   "metadata": {},
   "outputs": [],
   "source": [
    "def match_datasets(df_1, col_index_1, df_2, col_index_2, epsilon):\n",
    "    #col_indexes are the names of the columns to search (eg. 'Time Stamp')\n",
    "    #Epsilon is the tolerance in seconds\n",
    "    \n",
    "    matched = 0 #Number of elements matched\n",
    "    dropped_df_1 = 0 #Number of elements dropped from df_1\n",
    "    dropped_df_2 = 0 #Number of elements dropped from df_2\n",
    "    \n",
    "    #Ensure Dataframes are sorted by timestamp\n",
    "    df_1 = df_1.sort_values(by=[col_index_1]).reset_index()\n",
    "    df_2 = df_2.sort_values(by=[col_index_2]).reset_index()\n",
    "    \n",
    "    i = 0 #keeps track of index of df_1\n",
    "    j = 0 #keeps track of index of df_2\n",
    "    while i < len(df_1[col_index_1])-1 and j < len(df_2[col_index_2])-1:\n",
    "        if abs(df_1[col_index_1][i]-df_2[col_index_2][j]) < epsilon:\n",
    "            #Case 1:\n",
    "            #Points matched\n",
    "            matched = matched + 1\n",
    "            #Increment both i and j\n",
    "            i = i + 1\n",
    "            j = j + 1\n",
    "        #Lookahead on i\n",
    "        elif df_1[col_index_1][i] < df_2[col_index_2][j]:\n",
    "            #Case 2:\n",
    "            i = i + 1\n",
    "            dropped_df_1 = dropped_df_1 + 1 \n",
    "            while df_1[col_index_1][i] < df_2[col_index_2][j]:\n",
    "                if abs(df_1[col_index_1][i]-df_2[col_index_2][j]) < epsilon:\n",
    "                    #Points Matched\n",
    "                    matched = matched + 1\n",
    "                    i = i + 1\n",
    "                    j = j + 1\n",
    "                    break\n",
    "                else:\n",
    "                    i = i + 1\n",
    "                    dropped_df_1 = dropped_df_1 + 1\n",
    "        elif df_1[col_index_1][i] > df_2[col_index_2][j]:\n",
    "            #Case 3:\n",
    "            j = j + 1\n",
    "            dropped_df_2 = dropped_df_2 + 1 \n",
    "            while df_1[col_index_1][i] > df_2[col_index_2][j]:\n",
    "                if abs(df_1[col_index_1][i]-df_2[col_index_2][j]) < epsilon:\n",
    "                    #Points Matched\n",
    "                    matched = matched + 1\n",
    "                    i = i + 1\n",
    "                    j = j + 1\n",
    "                    break\n",
    "                else:\n",
    "                    j = j + 1\n",
    "                    dropped_df_2 = dropped_df_2 + 1\n",
    "                \n",
    "        \n",
    "    \n",
    "    print('Matched: ' + str(matched))\n",
    "    print('Dropped from 1st df: ' + str(dropped_df_1))\n",
    "    print('Dropped from 2nd df: ' + str(dropped_df_2))"
   ]
  },
  {
   "cell_type": "code",
   "execution_count": 30,
   "metadata": {},
   "outputs": [
    {
     "name": "stdout",
     "output_type": "stream",
     "text": [
      "Matched: 1462\n",
      "Dropped from 1st df: 433\n",
      "Dropped from 2nd df: 0\n"
     ]
    }
   ],
   "source": [
    "match_datasets(BLM,'Time Stamp',TL_BPM,'Time Stamp', 50)"
   ]
  }
 ],
 "metadata": {
  "kernelspec": {
   "display_name": "Python 3",
   "language": "python",
   "name": "python3"
  },
  "language_info": {
   "codemirror_mode": {
    "name": "ipython",
    "version": 3
   },
   "file_extension": ".py",
   "mimetype": "text/x-python",
   "name": "python",
   "nbconvert_exporter": "python",
   "pygments_lexer": "ipython3",
   "version": "3.7.1"
  }
 },
 "nbformat": 4,
 "nbformat_minor": 2
}
