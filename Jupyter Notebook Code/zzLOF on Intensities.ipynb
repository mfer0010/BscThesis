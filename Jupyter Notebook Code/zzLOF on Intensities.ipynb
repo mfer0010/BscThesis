{
 "cells": [
  {
   "cell_type": "code",
   "execution_count": 1,
   "metadata": {},
   "outputs": [
    {
     "name": "stdout",
     "output_type": "stream",
     "text": [
      "Once deleted, variables cannot be recovered. Proceed (y/[n])? y\n"
     ]
    }
   ],
   "source": [
    "%reset\n",
    "\n",
    "import numpy as np\n",
    "import pandas as pd\n",
    "import matplotlib.pyplot as plt\n",
    "from sklearn.neighbors import LocalOutlierFactor\n",
    "\n",
    "#Required by Jupyter for inlining images\n",
    "%matplotlib inline"
   ]
  },
  {
   "cell_type": "code",
   "execution_count": 2,
   "metadata": {},
   "outputs": [
    {
     "name": "stdout",
     "output_type": "stream",
     "text": [
      "<class 'pandas.core.frame.DataFrame'>\n",
      "RangeIndex: 1022 entries, 0 to 1021\n",
      "Data columns (total 4 columns):\n",
      "Time Stamp          1022 non-null float64\n",
      "Time Differences    1022 non-null float64\n",
      "SPS Reading         1022 non-null float64\n",
      "LHC Reading         1022 non-null float64\n",
      "dtypes: float64(4)\n",
      "memory usage: 32.0 KB\n"
     ]
    }
   ],
   "source": [
    "#Read data frames\n",
    "Intensities_B1 = pd.read_pickle('../Data/Beam1_SPSandLHC.pkl')\n",
    "Intensities_B1.info()"
   ]
  },
  {
   "cell_type": "code",
   "execution_count": 3,
   "metadata": {},
   "outputs": [
    {
     "name": "stderr",
     "output_type": "stream",
     "text": [
      "/home/marc/anaconda3/lib/python3.7/site-packages/scipy/stats/stats.py:1713: FutureWarning: Using a non-tuple sequence for multidimensional indexing is deprecated; use `arr[tuple(seq)]` instead of `arr[seq]`. In the future this will be interpreted as an array index, `arr[np.array(seq)]`, which will result either in an error or a different result.\n",
      "  return np.add.reduce(sorted[indexer] * weights, axis=axis) / sumval\n"
     ]
    }
   ],
   "source": [
    "X = np.column_stack((Intensities_B1['LHC Reading'], Intensities_B1['SPS Reading']))\n",
    "\n",
    "clf = LocalOutlierFactor(n_neighbors=250, contamination = 0.1) \n",
    "Y_pred = clf.fit_predict(X) #Runs LoF to look for outliers\n",
    "\n",
    "df = pd.DataFrame({'Pred': Y_pred, 'BLM': X[:,0], 'Intensities': X[:,1]})\n",
    "is_outlier = df['Pred']==-1\n",
    "outliers = df[is_outlier]\n",
    "\n",
    "\n",
    "not_outlier = df['Pred']==1\n",
    "inliers = df[not_outlier]"
   ]
  },
  {
   "cell_type": "code",
   "execution_count": 5,
   "metadata": {},
   "outputs": [
    {
     "data": {
      "image/png": "[encoded data removed]",
      "text/plain": [
       "<Figure size 432x288 with 1 Axes>"
      ]
     },
     "metadata": {
      "needs_background": "light"
     },
     "output_type": "display_data"
    }
   ],
   "source": [
    "# plot the level sets of the decision function\n",
    "xx, yy = np.meshgrid(np.linspace(0, 1, 100), np.linspace(-3e14, 10e10, 100))\n",
    "Z = clf._decision_function(np.c_[xx.ravel(), yy.ravel()])\n",
    "Z = Z.reshape(xx.shape)\n",
    "\n",
    "plt.title(\"Local Outlier Factor (LOF)\")\n",
    "plt.contourf(xx, yy, Z, cmap=plt.cm.Blues_r)\n",
    "\n",
    "a = plt.scatter(inliers['BLM'], inliers['Intensities'], c='white',\n",
    "                edgecolor='k', s=20)\n",
    "b = plt.scatter(outliers['BLM'], outliers['Intensities'], c='red',\n",
    "                edgecolor='k', s=20)\n",
    "plt.axis('tight')\n",
    "plt.xlim((-0.1e13, max(df['BLM']+0.1e13)))\n",
    "plt.ylim(0,0.35e14)\n",
    "plt.xlabel('LHC Intensity (W\\m^2)')\n",
    "plt.ylabel('SPS Intensity (W\\m^2)')\n",
    "plt.legend([a, b],\n",
    "           [\"normal observations\",\n",
    "            \"abnormal observations\"],\n",
    "           loc=\"lower right\")\n",
    "plt.show()"
   ]
  }
 ],
 "metadata": {
  "kernelspec": {
   "display_name": "Python 3",
   "language": "python",
   "name": "python3"
  },
  "language_info": {
   "codemirror_mode": {
    "name": "ipython",
    "version": 3
   },
   "file_extension": ".py",
   "mimetype": "text/x-python",
   "name": "python",
   "nbconvert_exporter": "python",
   "pygments_lexer": "ipython3",
   "version": "3.7.1"
  }
 },
 "nbformat": 4,
 "nbformat_minor": 2
}
