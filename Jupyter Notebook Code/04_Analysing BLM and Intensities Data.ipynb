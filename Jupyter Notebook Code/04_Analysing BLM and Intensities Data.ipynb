{
 "cells": [
  {
   "cell_type": "code",
   "execution_count": 1,
   "metadata": {},
   "outputs": [
    {
     "name": "stdout",
     "output_type": "stream",
     "text": [
      "Once deleted, variables cannot be recovered. Proceed (y/[n])? y\n"
     ]
    }
   ],
   "source": [
    "%reset\n",
    "\n",
    "import numpy as np\n",
    "import pandas as pd\n",
    "import matplotlib.pyplot as plt\n",
    "\n",
    "#Required by Jupyter for inlining images\n",
    "%matplotlib inline"
   ]
  },
  {
   "cell_type": "code",
   "execution_count": 2,
   "metadata": {},
   "outputs": [],
   "source": [
    "#Read data frames\n",
    "Intensities_B1 = pd.read_pickle('../Data/Beam1_SPSandLHC.pkl')\n",
    "BLM_B1 = pd.read_pickle('../Data/Beam1_BLM.pkl')"
   ]
  },
  {
   "cell_type": "code",
   "execution_count": 3,
   "metadata": {},
   "outputs": [
    {
     "data": {
      "text/html": [
       "<div>\n",
       "<style scoped>\n",
       "    .dataframe tbody tr th:only-of-type {\n",
       "        vertical-align: middle;\n",
       "    }\n",
       "\n",
       "    .dataframe tbody tr th {\n",
       "        vertical-align: top;\n",
       "    }\n",
       "\n",
       "    .dataframe thead th {\n",
       "        text-align: right;\n",
       "    }\n",
       "</style>\n",
       "<table border=\"1\" class=\"dataframe\">\n",
       "  <thead>\n",
       "    <tr style=\"text-align: right;\">\n",
       "      <th></th>\n",
       "      <th>Time Stamp</th>\n",
       "      <th>Reading 1</th>\n",
       "      <th>Reading 2</th>\n",
       "      <th>Reading 3</th>\n",
       "    </tr>\n",
       "  </thead>\n",
       "  <tbody>\n",
       "    <tr>\n",
       "      <th>count</th>\n",
       "      <td>1.898000e+03</td>\n",
       "      <td>1898.000000</td>\n",
       "      <td>1898.000000</td>\n",
       "      <td>1898.000000</td>\n",
       "    </tr>\n",
       "    <tr>\n",
       "      <th>mean</th>\n",
       "      <td>1.537150e+09</td>\n",
       "      <td>0.117479</td>\n",
       "      <td>0.131212</td>\n",
       "      <td>0.109946</td>\n",
       "    </tr>\n",
       "    <tr>\n",
       "      <th>std</th>\n",
       "      <td>1.675666e+06</td>\n",
       "      <td>0.132458</td>\n",
       "      <td>0.127527</td>\n",
       "      <td>0.123250</td>\n",
       "    </tr>\n",
       "    <tr>\n",
       "      <th>min</th>\n",
       "      <td>1.534476e+09</td>\n",
       "      <td>0.000000</td>\n",
       "      <td>0.000000</td>\n",
       "      <td>0.000000</td>\n",
       "    </tr>\n",
       "    <tr>\n",
       "      <th>25%</th>\n",
       "      <td>1.535796e+09</td>\n",
       "      <td>0.011825</td>\n",
       "      <td>0.024877</td>\n",
       "      <td>0.003993</td>\n",
       "    </tr>\n",
       "    <tr>\n",
       "      <th>50%</th>\n",
       "      <td>1.536506e+09</td>\n",
       "      <td>0.094571</td>\n",
       "      <td>0.116093</td>\n",
       "      <td>0.089513</td>\n",
       "    </tr>\n",
       "    <tr>\n",
       "      <th>75%</th>\n",
       "      <td>1.538614e+09</td>\n",
       "      <td>0.156472</td>\n",
       "      <td>0.185786</td>\n",
       "      <td>0.147227</td>\n",
       "    </tr>\n",
       "    <tr>\n",
       "      <th>max</th>\n",
       "      <td>1.540021e+09</td>\n",
       "      <td>1.000000</td>\n",
       "      <td>1.000000</td>\n",
       "      <td>1.000000</td>\n",
       "    </tr>\n",
       "  </tbody>\n",
       "</table>\n",
       "</div>"
      ],
      "text/plain": [
       "         Time Stamp    Reading 1    Reading 2    Reading 3\n",
       "count  1.898000e+03  1898.000000  1898.000000  1898.000000\n",
       "mean   1.537150e+09     0.117479     0.131212     0.109946\n",
       "std    1.675666e+06     0.132458     0.127527     0.123250\n",
       "min    1.534476e+09     0.000000     0.000000     0.000000\n",
       "25%    1.535796e+09     0.011825     0.024877     0.003993\n",
       "50%    1.536506e+09     0.094571     0.116093     0.089513\n",
       "75%    1.538614e+09     0.156472     0.185786     0.147227\n",
       "max    1.540021e+09     1.000000     1.000000     1.000000"
      ]
     },
     "execution_count": 3,
     "metadata": {},
     "output_type": "execute_result"
    }
   ],
   "source": [
    "BLM_B1.describe()"
   ]
  },
  {
   "cell_type": "code",
   "execution_count": 5,
   "metadata": {},
   "outputs": [
    {
     "data": {
      "text/html": [
       "<div>\n",
       "<style scoped>\n",
       "    .dataframe tbody tr th:only-of-type {\n",
       "        vertical-align: middle;\n",
       "    }\n",
       "\n",
       "    .dataframe tbody tr th {\n",
       "        vertical-align: top;\n",
       "    }\n",
       "\n",
       "    .dataframe thead th {\n",
       "        text-align: right;\n",
       "    }\n",
       "</style>\n",
       "<table border=\"1\" class=\"dataframe\">\n",
       "  <thead>\n",
       "    <tr style=\"text-align: right;\">\n",
       "      <th></th>\n",
       "      <th>Time Stamp</th>\n",
       "      <th>Time Differences</th>\n",
       "      <th>SPS Reading</th>\n",
       "      <th>LHC Reading</th>\n",
       "    </tr>\n",
       "  </thead>\n",
       "  <tbody>\n",
       "    <tr>\n",
       "      <th>count</th>\n",
       "      <td>1.022000e+03</td>\n",
       "      <td>1022.000000</td>\n",
       "      <td>1.022000e+03</td>\n",
       "      <td>1.022000e+03</td>\n",
       "    </tr>\n",
       "    <tr>\n",
       "      <th>mean</th>\n",
       "      <td>1.536079e+09</td>\n",
       "      <td>16.875337</td>\n",
       "      <td>1.214175e+13</td>\n",
       "      <td>1.033751e+13</td>\n",
       "    </tr>\n",
       "    <tr>\n",
       "      <th>std</th>\n",
       "      <td>9.103123e+05</td>\n",
       "      <td>0.704729</td>\n",
       "      <td>6.653539e+12</td>\n",
       "      <td>1.677372e+13</td>\n",
       "    </tr>\n",
       "    <tr>\n",
       "      <th>min</th>\n",
       "      <td>1.534476e+09</td>\n",
       "      <td>14.095000</td>\n",
       "      <td>-2.358000e+10</td>\n",
       "      <td>-2.769156e+14</td>\n",
       "    </tr>\n",
       "    <tr>\n",
       "      <th>25%</th>\n",
       "      <td>1.535517e+09</td>\n",
       "      <td>16.529250</td>\n",
       "      <td>1.049428e+13</td>\n",
       "      <td>5.313915e+12</td>\n",
       "    </tr>\n",
       "    <tr>\n",
       "      <th>50%</th>\n",
       "      <td>1.535953e+09</td>\n",
       "      <td>16.890500</td>\n",
       "      <td>1.585519e+13</td>\n",
       "      <td>1.566322e+13</td>\n",
       "    </tr>\n",
       "    <tr>\n",
       "      <th>75%</th>\n",
       "      <td>1.536504e+09</td>\n",
       "      <td>17.246000</td>\n",
       "      <td>1.608628e+13</td>\n",
       "      <td>1.602797e+13</td>\n",
       "    </tr>\n",
       "    <tr>\n",
       "      <th>max</th>\n",
       "      <td>1.538122e+09</td>\n",
       "      <td>19.805000</td>\n",
       "      <td>3.042292e+13</td>\n",
       "      <td>1.659973e+13</td>\n",
       "    </tr>\n",
       "  </tbody>\n",
       "</table>\n",
       "</div>"
      ],
      "text/plain": [
       "         Time Stamp  Time Differences   SPS Reading   LHC Reading\n",
       "count  1.022000e+03       1022.000000  1.022000e+03  1.022000e+03\n",
       "mean   1.536079e+09         16.875337  1.214175e+13  1.033751e+13\n",
       "std    9.103123e+05          0.704729  6.653539e+12  1.677372e+13\n",
       "min    1.534476e+09         14.095000 -2.358000e+10 -2.769156e+14\n",
       "25%    1.535517e+09         16.529250  1.049428e+13  5.313915e+12\n",
       "50%    1.535953e+09         16.890500  1.585519e+13  1.566322e+13\n",
       "75%    1.536504e+09         17.246000  1.608628e+13  1.602797e+13\n",
       "max    1.538122e+09         19.805000  3.042292e+13  1.659973e+13"
      ]
     },
     "execution_count": 5,
     "metadata": {},
     "output_type": "execute_result"
    }
   ],
   "source": [
    "Intensities_B1.describe()"
   ]
  },
  {
   "cell_type": "code",
   "execution_count": 58,
   "metadata": {},
   "outputs": [
    {
     "name": "stdout",
     "output_type": "stream",
     "text": [
      "0   -0.961\n",
      "1   -0.954\n",
      "2   -0.967\n",
      "3   -2.019\n",
      "4   -0.914\n",
      "5   -0.885\n",
      "6    0.125\n",
      "7   -0.869\n",
      "8   -0.939\n",
      "9   -1.874\n",
      "Name: Time Stamp, dtype: float64\n"
     ]
    }
   ],
   "source": [
    "#See which injection each reading corresponds to\n",
    "print(Intensities_B1['Time Stamp'][0:10]-BLM_B1['Time Stamp'][0:10])"
   ]
  },
  {
   "cell_type": "markdown",
   "metadata": {},
   "source": [
    "for i in range(0,len(Intensities_B1)):\n",
    "    if abs(Intensities_B1['Time Stamp'][i]-BLM_B1['Time Stamp'][i])>5:\n",
    "        print(i, ': ', Intensities_B1['Time Stamp'][i]-BLM_B1['Time Stamp'][i])"
   ]
  },
  {
   "cell_type": "code",
   "execution_count": 4,
   "metadata": {},
   "outputs": [],
   "source": [
    "def sync_up(df1, df2, time_col):\n",
    "    #the longer df must be df1\n",
    "    for i in range(0,len(df1)):\n",
    "        try:\n",
    "            while abs(df1[time_col][i]-df2[time_col][i])>5:\n",
    "                #drop the row and reindex\n",
    "                df1 = df1.drop(i)\n",
    "                df1.index = range(len(df1))\n",
    "        except KeyError:\n",
    "            df1 = df1[0:i]\n",
    "            break\n",
    "    return df1"
   ]
  },
  {
   "cell_type": "code",
   "execution_count": 5,
   "metadata": {},
   "outputs": [],
   "source": [
    "df = sync_up(BLM_B1,Intensities_B1,'Time Stamp')"
   ]
  },
  {
   "cell_type": "code",
   "execution_count": 6,
   "metadata": {},
   "outputs": [
    {
     "name": "stdout",
     "output_type": "stream",
     "text": [
      "1022\n",
      "1022\n"
     ]
    }
   ],
   "source": [
    "print(len(df))\n",
    "print(len(Intensities_B1))\n",
    "BLM_B1 = df\n",
    "#Everything should be synced up now"
   ]
  },
  {
   "cell_type": "code",
   "execution_count": 9,
   "metadata": {},
   "outputs": [
    {
     "name": "stdout",
     "output_type": "stream",
     "text": [
      "<class 'pandas.core.frame.DataFrame'>\n",
      "RangeIndex: 1022 entries, 0 to 1021\n",
      "Data columns (total 4 columns):\n",
      "Time Stamp    1022 non-null float64\n",
      "Reading 1     1022 non-null float64\n",
      "Reading 2     1022 non-null float64\n",
      "Reading 3     1022 non-null float64\n",
      "dtypes: float64(4)\n",
      "memory usage: 32.0 KB\n"
     ]
    }
   ],
   "source": [
    "BLM_B1.info()"
   ]
  },
  {
   "cell_type": "code",
   "execution_count": 7,
   "metadata": {},
   "outputs": [],
   "source": [
    "Intensities_B1['Change in Intensities'] = Intensities_B1['LHC Reading'] - Intensities_B1['SPS Reading']"
   ]
  },
  {
   "cell_type": "code",
   "execution_count": 18,
   "metadata": {},
   "outputs": [],
   "source": [
    "Intensities_B1.to_pickle('../Data/intensities.pkl')"
   ]
  },
  {
   "cell_type": "code",
   "execution_count": 10,
   "metadata": {},
   "outputs": [
    {
     "data": {
      "image/png": "[encoded data removed]",
      "text/plain": [
       "<Figure size 432x288 with 1 Axes>"
      ]
     },
     "metadata": {
      "needs_background": "light"
     },
     "output_type": "display_data"
    }
   ],
   "source": [
    "fig = plt.plot()\n",
    "plt.scatter(BLM_B1['Reading 1'], Intensities_B1['Change in Intensities'])\n",
    "#plt.ylim(-10e10,10e10)#max(Intensities_B1['Change in Intensities']))\n",
    "plt.title('Beam Loss vs. Change in Intensities')\n",
    "plt.xlabel('Beam Loss (Gy/s)')\n",
    "plt.ylabel('Change in Intensity from SPS to LHC (W/m^2)')\n",
    "plt.grid(1, which ='major',axis='y')"
   ]
  },
  {
   "cell_type": "code",
   "execution_count": 13,
   "metadata": {},
   "outputs": [
    {
     "data": {
      "text/plain": [
       "Text(0,0.5,'Change in Intensity from SPS to LHC (W/m^2)')"
      ]
     },
     "execution_count": 13,
     "metadata": {},
     "output_type": "execute_result"
    },
    {
     "data": {
      "image/png": "[encoded data removed]",
      "text/plain": [
       "<Figure size 432x288 with 1 Axes>"
      ]
     },
     "metadata": {
      "needs_background": "light"
     },
     "output_type": "display_data"
    }
   ],
   "source": [
    "fig = plt.plot()\n",
    "plt.scatter(BLM_B1['Reading 2'], Intensities_B1['Change in Intensities'])\n",
    "plt.ylim(-2e12,10e10)#max(Intensities_B1['Change in Intensities']))\n",
    "plt.title('Beam Loss vs. Change in Intensities')\n",
    "plt.xlabel('Beam Loss (Gy/s)')\n",
    "plt.ylabel('Change in Intensity from SPS to LHC (W/m^2)')"
   ]
  },
  {
   "cell_type": "code",
   "execution_count": 77,
   "metadata": {},
   "outputs": [
    {
     "data": {
      "text/plain": [
       "Text(0,0.5,'Change in Intensity from SPS to LHC (W/m^2)')"
      ]
     },
     "execution_count": 77,
     "metadata": {},
     "output_type": "execute_result"
    },
    {
     "data": {
      "image/png": "[encoded data removed]",
      "text/plain": [
       "<Figure size 432x288 with 1 Axes>"
      ]
     },
     "metadata": {
      "needs_background": "light"
     },
     "output_type": "display_data"
    }
   ],
   "source": [
    "fig = plt.plot()\n",
    "plt.scatter(BLM_B1['Reading 3'], Intensities_B1['Change in Intensities'])\n",
    "plt.ylim(-10e10,10e10)#max(Intensities_B1['Change in Intensities']))\n",
    "plt.title('Beam Loss vs. Change in Intensities')\n",
    "plt.xlabel('Beam Loss (Gy/s)')\n",
    "plt.ylabel('Change in Intensity from SPS to LHC (W/m^2)')"
   ]
  },
  {
   "cell_type": "code",
   "execution_count": 80,
   "metadata": {},
   "outputs": [
    {
     "data": {
      "text/plain": [
       "array([[1.        , 0.08899158],\n",
       "       [0.08899158, 1.        ]])"
      ]
     },
     "execution_count": 80,
     "metadata": {},
     "output_type": "execute_result"
    }
   ],
   "source": [
    "np.corrcoef(BLM_B1['Reading 1'], Intensities_B1['Change in Intensities'])"
   ]
  },
  {
   "cell_type": "markdown",
   "metadata": {},
   "source": [
    "## LOF"
   ]
  },
  {
   "cell_type": "code",
   "execution_count": 15,
   "metadata": {},
   "outputs": [
    {
     "name": "stderr",
     "output_type": "stream",
     "text": [
      "/home/marc/anaconda3/lib/python3.7/site-packages/scipy/stats/stats.py:1713: FutureWarning: Using a non-tuple sequence for multidimensional indexing is deprecated; use `arr[tuple(seq)]` instead of `arr[seq]`. In the future this will be interpreted as an array index, `arr[np.array(seq)]`, which will result either in an error or a different result.\n",
      "  return np.add.reduce(sorted[indexer] * weights, axis=axis) / sumval\n"
     ]
    }
   ],
   "source": [
    "from sklearn.neighbors import LocalOutlierFactor\n",
    "\n",
    "X = np.column_stack((BLM_B1['Reading 1'], Intensities_B1['Change in Intensities']))\n",
    "\n",
    "clf = LocalOutlierFactor(n_neighbors=900, contamination = 0.1) \n",
    "Y_pred = clf.fit_predict(X) #Runs LoF to look for outliers\n",
    "\n",
    "df = pd.DataFrame({'Pred': Y_pred, 'BLM': X[:,0], 'Intensities': X[:,1]})\n",
    "is_outlier = df['Pred']==-1\n",
    "outliers = df[is_outlier]\n",
    "\n",
    "\n",
    "not_outlier = df['Pred']==1\n",
    "inliers = df[not_outlier]"
   ]
  },
  {
   "cell_type": "code",
   "execution_count": 16,
   "metadata": {},
   "outputs": [
    {
     "data": {
      "image/png": "[encoded data removed]",
      "text/plain": [
       "<Figure size 432x288 with 1 Axes>"
      ]
     },
     "metadata": {
      "needs_background": "light"
     },
     "output_type": "display_data"
    },
    {
     "data": {
      "text/plain": [
       "1022"
      ]
     },
     "execution_count": 16,
     "metadata": {},
     "output_type": "execute_result"
    }
   ],
   "source": [
    "# plot the level sets of the decision function\n",
    "xx, yy = np.meshgrid(np.linspace(0, 1, 100), np.linspace(-3e14, 10e10, 100))\n",
    "Z = clf._decision_function(np.c_[xx.ravel(), yy.ravel()])\n",
    "Z = Z.reshape(xx.shape)\n",
    "\n",
    "plt.title(\"Local Outlier Factor (LOF)\")\n",
    "plt.contourf(xx, yy, Z, cmap=plt.cm.Blues_r)\n",
    "\n",
    "a = plt.scatter(inliers['BLM'], inliers['Intensities'], c='white',\n",
    "                edgecolor='k', s=20)\n",
    "b = plt.scatter(outliers['BLM'], outliers['Intensities'], c='red',\n",
    "                edgecolor='k', s=20)\n",
    "plt.axis('tight')\n",
    "#plt.xlim((-5, 5))\n",
    "plt.ylim(-2e12,10e10)\n",
    "plt.xlabel('BLM (Gy/s)')\n",
    "plt.ylabel('Intensities (W\\m^2)')\n",
    "plt.legend([a, b],\n",
    "           [\"normal observations\",\n",
    "            \"abnormal observations\"],\n",
    "           loc=\"lower right\")\n",
    "plt.show()\n",
    "\n",
    "len(X)"
   ]
  }
 ],
 "metadata": {
  "kernelspec": {
   "display_name": "Python 3",
   "language": "python",
   "name": "python3"
  },
  "language_info": {
   "codemirror_mode": {
    "name": "ipython",
    "version": 3
   },
   "file_extension": ".py",
   "mimetype": "text/x-python",
   "name": "python",
   "nbconvert_exporter": "python",
   "pygments_lexer": "ipython3",
   "version": "3.7.1"
  }
 },
 "nbformat": 4,
 "nbformat_minor": 2
}
